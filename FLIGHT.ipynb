{
  "nbformat": 4,
  "nbformat_minor": 0,
  "metadata": {
    "colab": {
      "name": "FLIGHT.ipynb",
      "provenance": [],
      "collapsed_sections": [
        "1YQB7QpyXPLx",
        "__MjpSuLgv16",
        "yYMpaJ_OlN_S",
        "ymc5yvh4gHzd",
        "usXf5nXVnqCN",
        "ivXN4PtzoFDn",
        "l5yqMa_ANu0T",
        "DRxt1lX1N5fZ"
      ],
      "toc_visible": true
    },
    "kernelspec": {
      "name": "python3",
      "display_name": "Python 3"
    }
  },
  "cells": [
    {
      "cell_type": "markdown",
      "metadata": {
        "id": "I0cq_AZq809A"
      },
      "source": [
        "#Importing Libraries"
      ]
    },
    {
      "cell_type": "code",
      "metadata": {
        "id": "_v8W3GR-yCU2"
      },
      "source": [
        "import pandas as pd\n",
        "import numpy as np\n",
        "import matplotlib.pyplot as plt\n",
        " \n",
        "import seaborn as sns\n",
        "from warnings import filterwarnings"
      ],
      "execution_count": null,
      "outputs": []
    },
    {
      "cell_type": "code",
      "metadata": {
        "id": "xy5JkjXUeEyk"
      },
      "source": [
        "filterwarnings('ignore')"
      ],
      "execution_count": null,
      "outputs": []
    },
    {
      "cell_type": "markdown",
      "metadata": {
        "id": "vLJfys0Q8vEq"
      },
      "source": [
        "# Loading and Observing the data"
      ]
    },
    {
      "cell_type": "code",
      "metadata": {
        "id": "zORUAmdZySrQ"
      },
      "source": [
        "df = pd.read_csv('train.csv')"
      ],
      "execution_count": null,
      "outputs": []
    },
    {
      "cell_type": "code",
      "metadata": {
        "id": "JNN3_da1yWUQ",
        "colab": {
          "base_uri": "https://localhost:8080/"
        },
        "outputId": "217f5274-5330-45e0-81cf-e8d7b53129ee"
      },
      "source": [
        "df.shape"
      ],
      "execution_count": null,
      "outputs": [
        {
          "output_type": "execute_result",
          "data": {
            "text/plain": [
              "(8012, 11)"
            ]
          },
          "metadata": {
            "tags": []
          },
          "execution_count": 32
        }
      ]
    },
    {
      "cell_type": "code",
      "metadata": {
        "id": "a3ujjACf-u1u",
        "colab": {
          "base_uri": "https://localhost:8080/"
        },
        "outputId": "fe31fe4f-7481-4410-d411-233d29cfc366"
      },
      "source": [
        "print('count before ',len(df))\n",
        "print(df.isnull().sum())\n",
        "df.dropna(inplace=True)\n",
        "print('count after ',len(df))\n",
        "#dropping null values"
      ],
      "execution_count": null,
      "outputs": [
        {
          "output_type": "stream",
          "text": [
            "count before  8012\n",
            "Airline            0\n",
            "Date_of_Journey    0\n",
            "Source             0\n",
            "Destination        0\n",
            "Route              1\n",
            "Dep_Time           0\n",
            "Arrival_Time       0\n",
            "Duration           0\n",
            "Total_Stops        1\n",
            "Additional_Info    0\n",
            "Price              0\n",
            "dtype: int64\n",
            "count after  8011\n"
          ],
          "name": "stdout"
        }
      ]
    },
    {
      "cell_type": "code",
      "metadata": {
        "id": "BWZpAOAhxPVS"
      },
      "source": [
        "cnames =  [\"Price\"]\n",
        "# #Detect and delete outliers from data\n",
        "for i in cnames:\n",
        "    q75, q25 = np.percentile(df.loc[:,i], [75 ,25])\n",
        "    iqr = q75 - q25\n",
        "    min = q25 - (iqr*1.5)\n",
        "    max = q75 + (iqr*1.5)\n",
        "    df = df.drop(df[df.loc[:,i] < min].index)\n",
        "    df = df.drop(df[df.loc[:,i] > max].index)"
      ],
      "execution_count": null,
      "outputs": []
    },
    {
      "cell_type": "code",
      "metadata": {
        "id": "bTONYnP05zj6",
        "colab": {
          "base_uri": "https://localhost:8080/"
        },
        "outputId": "6768d0eb-5d65-48f6-bf56-a81498861a58"
      },
      "source": [
        "print('count beofre ',len(df))\n",
        "df.drop_duplicates(keep='first',inplace=True)\n",
        "print('count after ',len(df))\n",
        "#dropping duplicate flights\n"
      ],
      "execution_count": null,
      "outputs": [
        {
          "output_type": "stream",
          "text": [
            "count beofre  7939\n",
            "count after  7822\n"
          ],
          "name": "stdout"
        }
      ]
    },
    {
      "cell_type": "code",
      "metadata": {
        "id": "6mn1znCb1Qrr",
        "colab": {
          "base_uri": "https://localhost:8080/",
          "height": 112
        },
        "outputId": "ba588948-d8bb-4efa-f85b-1a5bfc503d97"
      },
      "source": [
        "df[['Date_of_Journey','Dep_Time','Arrival_Time','Duration']].head(2)\n",
        "#SPLIT THEM UP MAYBE??"
      ],
      "execution_count": null,
      "outputs": [
        {
          "output_type": "execute_result",
          "data": {
            "text/html": [
              "<div>\n",
              "<style scoped>\n",
              "    .dataframe tbody tr th:only-of-type {\n",
              "        vertical-align: middle;\n",
              "    }\n",
              "\n",
              "    .dataframe tbody tr th {\n",
              "        vertical-align: top;\n",
              "    }\n",
              "\n",
              "    .dataframe thead th {\n",
              "        text-align: right;\n",
              "    }\n",
              "</style>\n",
              "<table border=\"1\" class=\"dataframe\">\n",
              "  <thead>\n",
              "    <tr style=\"text-align: right;\">\n",
              "      <th></th>\n",
              "      <th>Date_of_Journey</th>\n",
              "      <th>Dep_Time</th>\n",
              "      <th>Arrival_Time</th>\n",
              "      <th>Duration</th>\n",
              "    </tr>\n",
              "  </thead>\n",
              "  <tbody>\n",
              "    <tr>\n",
              "      <th>0</th>\n",
              "      <td>12/06/2019</td>\n",
              "      <td>20:40</td>\n",
              "      <td>09:25 13 Jun</td>\n",
              "      <td>12h 45m</td>\n",
              "    </tr>\n",
              "    <tr>\n",
              "      <th>1</th>\n",
              "      <td>18/06/2019</td>\n",
              "      <td>18:55</td>\n",
              "      <td>22:00</td>\n",
              "      <td>3h 5m</td>\n",
              "    </tr>\n",
              "  </tbody>\n",
              "</table>\n",
              "</div>"
            ],
            "text/plain": [
              "  Date_of_Journey Dep_Time  Arrival_Time Duration\n",
              "0      12/06/2019    20:40  09:25 13 Jun  12h 45m\n",
              "1      18/06/2019    18:55         22:00    3h 5m"
            ]
          },
          "metadata": {
            "tags": []
          },
          "execution_count": 36
        }
      ]
    },
    {
      "cell_type": "code",
      "metadata": {
        "id": "Uwaq7ZPFiv-K",
        "colab": {
          "base_uri": "https://localhost:8080/",
          "height": 112
        },
        "outputId": "7e3effaf-70ef-4413-d697-e4c0b2775779"
      },
      "source": [
        "df[['Date_of_Journey','dep_time','arrival_time','Duration']].head(2)\n"
      ],
      "execution_count": null,
      "outputs": [
        {
          "output_type": "execute_result",
          "data": {
            "text/html": [
              "<div>\n",
              "<style scoped>\n",
              "    .dataframe tbody tr th:only-of-type {\n",
              "        vertical-align: middle;\n",
              "    }\n",
              "\n",
              "    .dataframe tbody tr th {\n",
              "        vertical-align: top;\n",
              "    }\n",
              "\n",
              "    .dataframe thead th {\n",
              "        text-align: right;\n",
              "    }\n",
              "</style>\n",
              "<table border=\"1\" class=\"dataframe\">\n",
              "  <thead>\n",
              "    <tr style=\"text-align: right;\">\n",
              "      <th></th>\n",
              "      <th>Date_of_Journey</th>\n",
              "      <th>dep_time</th>\n",
              "      <th>arrival_time</th>\n",
              "      <th>Duration</th>\n",
              "    </tr>\n",
              "  </thead>\n",
              "  <tbody>\n",
              "    <tr>\n",
              "      <th>0</th>\n",
              "      <td>12/06/2019</td>\n",
              "      <td>Evening</td>\n",
              "      <td>Morning</td>\n",
              "      <td>12h 45m</td>\n",
              "    </tr>\n",
              "    <tr>\n",
              "      <th>1</th>\n",
              "      <td>18/06/2019</td>\n",
              "      <td>Evening</td>\n",
              "      <td>Night</td>\n",
              "      <td>3h 5m</td>\n",
              "    </tr>\n",
              "  </tbody>\n",
              "</table>\n",
              "</div>"
            ],
            "text/plain": [
              "  Date_of_Journey dep_time arrival_time Duration\n",
              "0      12/06/2019  Evening      Morning  12h 45m\n",
              "1      18/06/2019  Evening        Night    3h 5m"
            ]
          },
          "metadata": {
            "tags": []
          },
          "execution_count": 312
        }
      ]
    },
    {
      "cell_type": "code",
      "metadata": {
        "id": "VeAZPg-VyW-S",
        "colab": {
          "base_uri": "https://localhost:8080/",
          "height": 127
        },
        "outputId": "16a16b2a-75c3-4356-f4df-8a19f652a13d"
      },
      "source": [
        "df.Source.value_counts() \n",
        "#label"
      ],
      "execution_count": null,
      "outputs": [
        {
          "output_type": "execute_result",
          "data": {
            "text/plain": [
              "Delhi       3296\n",
              "Kolkata     2148\n",
              "Banglore    1639\n",
              "Mumbai       523\n",
              "Chennai      289\n",
              "Name: Source, dtype: int64"
            ]
          },
          "metadata": {
            "tags": []
          },
          "execution_count": 39
        }
      ]
    },
    {
      "cell_type": "code",
      "metadata": {
        "id": "mrsF8Kf4ygLV",
        "colab": {
          "base_uri": "https://localhost:8080/"
        },
        "outputId": "d17b11dc-7430-4908-c0e7-dbb3bfbab805"
      },
      "source": [
        "df.Airline.value_counts()\n",
        "\n",
        "#label"
      ],
      "execution_count": null,
      "outputs": [
        {
          "output_type": "execute_result",
          "data": {
            "text/plain": [
              "Airline A    2763\n",
              "Airline B    1545\n",
              "Airline C    1240\n",
              "Airline D     897\n",
              "Airline E     621\n",
              "Airline F     359\n",
              "Airline G     235\n",
              "Airline H     146\n",
              "Airline I      12\n",
              "Airline K       3\n",
              "Airline L       1\n",
              "Name: Airline, dtype: int64"
            ]
          },
          "metadata": {
            "tags": []
          },
          "execution_count": 24
        }
      ]
    },
    {
      "cell_type": "code",
      "metadata": {
        "id": "cyoavB5Uy7qO",
        "colab": {
          "base_uri": "https://localhost:8080/",
          "height": 219
        },
        "outputId": "49d231aa-29f5-4a77-91a7-fb6ac67e64c3"
      },
      "source": [
        "df['Additional_Info'].value_counts()\n",
        "#label"
      ],
      "execution_count": null,
      "outputs": [
        {
          "output_type": "execute_result",
          "data": {
            "text/plain": [
              "No info                         6163\n",
              "In-flight meal not included     1465\n",
              "No check-in baggage included     247\n",
              "1 Long layover                     9\n",
              "Business class                     3\n",
              "No Info                            3\n",
              "Change airports                    2\n",
              "1 Short layover                    1\n",
              "Red-eye flight                     1\n",
              "2 Long layover                     1\n",
              "Name: Additional_Info, dtype: int64"
            ]
          },
          "metadata": {
            "tags": []
          },
          "execution_count": 41
        }
      ]
    },
    {
      "cell_type": "code",
      "metadata": {
        "id": "Dhs-qBHFziKd",
        "colab": {
          "base_uri": "https://localhost:8080/",
          "height": 109
        },
        "outputId": "3cc7bdc9-9aa4-417b-c6ec-dd9021b48317"
      },
      "source": [
        "df.Total_Stops.value_counts()\n",
        "#numeric\n",
        "#OHE?\n",
        "#label"
      ],
      "execution_count": null,
      "outputs": [
        {
          "output_type": "execute_result",
          "data": {
            "text/plain": [
              "1 stop      4235\n",
              "non-stop    2620\n",
              "2 stops     1006\n",
              "3 stops       33\n",
              "Name: Total_Stops, dtype: int64"
            ]
          },
          "metadata": {
            "tags": []
          },
          "execution_count": 42
        }
      ]
    },
    {
      "cell_type": "code",
      "metadata": {
        "id": "j3b8ogFl0jHT",
        "colab": {
          "base_uri": "https://localhost:8080/",
          "height": 237
        },
        "outputId": "fca62b35-4a46-4441-b939-4f52cd53db5a"
      },
      "source": [
        "df.Route.value_counts()\n",
        "#make a dictionary for route and map the values seperate the cities and OHE"
      ],
      "execution_count": null,
      "outputs": [
        {
          "output_type": "execute_result",
          "data": {
            "text/plain": [
              "DEL → BOM → COK                1784\n",
              "BLR → DEL                      1162\n",
              "CCU → BOM → BLR                 752\n",
              "CCU → BLR                       537\n",
              "BOM → HYD                       468\n",
              "                               ... \n",
              "BOM → GOI → HYD                   1\n",
              "BLR → HBX → BOM → BHO → DEL       1\n",
              "BOM → BLR → CCU → BBI → HYD       1\n",
              "BLR → VGA → VTZ → DEL             1\n",
              "BOM → JDH → DEL → HYD             1\n",
              "Name: Route, Length: 122, dtype: int64"
            ]
          },
          "metadata": {
            "tags": []
          },
          "execution_count": 43
        }
      ]
    },
    {
      "cell_type": "code",
      "metadata": {
        "id": "qxu99QWt0t2q",
        "colab": {
          "base_uri": "https://localhost:8080/",
          "height": 300
        },
        "outputId": "d7b5f8fd-0ece-49cf-c22a-1e9bc1f4fea0"
      },
      "source": [
        "df.describe()\n",
        "#split price in the middle and perform analyis if different features can diffretiate between the price split"
      ],
      "execution_count": null,
      "outputs": [
        {
          "output_type": "execute_result",
          "data": {
            "text/html": [
              "<div>\n",
              "<style scoped>\n",
              "    .dataframe tbody tr th:only-of-type {\n",
              "        vertical-align: middle;\n",
              "    }\n",
              "\n",
              "    .dataframe tbody tr th {\n",
              "        vertical-align: top;\n",
              "    }\n",
              "\n",
              "    .dataframe thead th {\n",
              "        text-align: right;\n",
              "    }\n",
              "</style>\n",
              "<table border=\"1\" class=\"dataframe\">\n",
              "  <thead>\n",
              "    <tr style=\"text-align: right;\">\n",
              "      <th></th>\n",
              "      <th>Price</th>\n",
              "    </tr>\n",
              "  </thead>\n",
              "  <tbody>\n",
              "    <tr>\n",
              "      <th>count</th>\n",
              "      <td>7895.000000</td>\n",
              "    </tr>\n",
              "    <tr>\n",
              "      <th>mean</th>\n",
              "      <td>9021.343509</td>\n",
              "    </tr>\n",
              "    <tr>\n",
              "      <th>std</th>\n",
              "      <td>4636.370509</td>\n",
              "    </tr>\n",
              "    <tr>\n",
              "      <th>min</th>\n",
              "      <td>1759.000000</td>\n",
              "    </tr>\n",
              "    <tr>\n",
              "      <th>25%</th>\n",
              "      <td>5228.000000</td>\n",
              "    </tr>\n",
              "    <tr>\n",
              "      <th>50%</th>\n",
              "      <td>8266.000000</td>\n",
              "    </tr>\n",
              "    <tr>\n",
              "      <th>75%</th>\n",
              "      <td>12293.500000</td>\n",
              "    </tr>\n",
              "    <tr>\n",
              "      <th>max</th>\n",
              "      <td>79512.000000</td>\n",
              "    </tr>\n",
              "  </tbody>\n",
              "</table>\n",
              "</div>"
            ],
            "text/plain": [
              "              Price\n",
              "count   7895.000000\n",
              "mean    9021.343509\n",
              "std     4636.370509\n",
              "min     1759.000000\n",
              "25%     5228.000000\n",
              "50%     8266.000000\n",
              "75%    12293.500000\n",
              "max    79512.000000"
            ]
          },
          "metadata": {
            "tags": []
          },
          "execution_count": 44
        }
      ]
    },
    {
      "cell_type": "markdown",
      "metadata": {
        "id": "3QKJOxfxOIUv"
      },
      "source": [
        "#Processing the columns to a respective numeric base \n",
        "\n",
        "*   Splitting the Date_of_Journey into day,month,year\n",
        "*   Label encoding the features wherever necessary\n",
        "*   Converting the Duration column to a scalable number\n",
        "*   Creating a Distance feature if proved useful\n",
        "\n",
        "\n"
      ]
    },
    {
      "cell_type": "code",
      "metadata": {
        "id": "uSzh4n4Pv7iY"
      },
      "source": [
        "#Grouping classes with very low frequency with Additional_Info\n",
        "for i in range(0,len(df[\"Additional_Info\"])):\n",
        "    if df[\"Additional_Info\"].iloc[i]== 'No check-in baggage included':\n",
        "         df[\"Additional_Info\"].iloc[i]=\"Others\"\n",
        "    elif df[\"Additional_Info\"].iloc[i]=='1 Long layover':\n",
        "         df[\"Additional_Info\"].iloc[i]=\"Others\"\n",
        "    elif df[\"Additional_Info\"].iloc[i]== 'Change airports':\n",
        "         df[\"Additional_Info\"].iloc[i]=\"Others\"\n",
        "    elif df[\"Additional_Info\"].iloc[i]=='Red-eye flight':\n",
        "         df[\"Additional_Info\"].iloc[i]=\"Others\"\n",
        "\n",
        "for i in range(0,len(df[\"Airline\"])):\n",
        "    if df[\"Airline\"].iloc[i]==\"Airline K\":\n",
        "         df[\"Airline\"].iloc[i]=\"Others\"\n",
        "    elif df[\"Airline\"].iloc[i]==\"Airline L\":\n",
        "         df[\"Airline\"].iloc[i]=\"Others\"\n",
        "    elif df[\"Airline\"].iloc[i]==\"Airline I\":\n",
        "         df[\"Airline\"].iloc[i]=\"Others\"\n",
        "\n",
        "         \n",
        "\n",
        "\n",
        "df['day'] = pd.to_datetime(df.Date_of_Journey, format='%d/%m/%Y').dt.day\n",
        "df['month'] = pd.to_datetime(df.Date_of_Journey, format='%d/%m/%Y').dt.month\n",
        "df['weekday']= pd.to_datetime(df.Date_of_Journey, format='%d/%m/%Y').dt.weekday\n",
        "\n",
        "df.drop('Date_of_Journey',1,inplace=True)\n",
        "\n",
        "\n",
        "def duration(test):\n",
        "    test = test.strip()\n",
        "    total=test.split(' ')\n",
        "    to=total[0]\n",
        "    hrs=(int)(to[:-1])*60\n",
        "    if((len(total))==2):\n",
        "        mint=(int)(total[1][:-1])\n",
        "        hrs=hrs+mint\n",
        "    test=str(hrs)\n",
        "    return hrs\n",
        "df['duration']=df['Duration'].apply(duration)\n",
        "df.drop('Duration',1,inplace=True)\n",
        "\n",
        "\n",
        "def deparrtime(x):\n",
        "    x=x.strip()\n",
        "    tt=(int)(x.split(':')[0])\n",
        "    if(tt>=16 and tt<21):\n",
        "        x='Evening'\n",
        "    elif(tt>=21 or tt<5):\n",
        "        x='Night'\n",
        "    elif(tt>=5 and tt<11):\n",
        "        x='Morning'\n",
        "    elif(tt>=11 and tt<16):\n",
        "        x='Afternoon'\n",
        "    return x\n",
        "\n",
        "df['dep_time']=df['Dep_Time'].apply(deparrtime)\n",
        "df['arrival_time']=df['Arrival_Time'].apply(deparrtime)\n",
        "df.drop(['Dep_Time','Arrival_Time'],1,inplace=True)\n",
        "\n",
        "\n",
        "# df= pd.read_csv('df.csv')\n",
        "df['total_stops'] = df['Total_Stops']\\\n",
        "                    .replace(['1 stop', 'non-stop', '2 stops', '3 stops', '4 stops'], [1, 0, 2, 3, 4])\n",
        "df.drop('Total_Stops',1,inplace=True)\n",
        "\n",
        "\n",
        "\n",
        "df['additional_info'] = df['Additional_Info'].apply(lambda row: str(row))\n",
        "df['additional_info'] = [x.lower() for x in list(df['additional_info'])]\n",
        "df.drop('Additional_Info',1,inplace=True)\n",
        "\n",
        "df.drop('Route',1,inplace=True)\n",
        "\n",
        "df.Destination.replace({'New Delhi':'Delhi'}, inplace=True)\n",
        "\n",
        "\n"
      ],
      "execution_count": null,
      "outputs": []
    },
    {
      "cell_type": "code",
      "metadata": {
        "id": "OcfZOII8yd_B",
        "colab": {
          "base_uri": "https://localhost:8080/",
          "height": 261
        },
        "outputId": "c47ed324-f0b4-4a3f-a6f8-596b65c7c156"
      },
      "source": [
        "df.head()"
      ],
      "execution_count": null,
      "outputs": [
        {
          "output_type": "execute_result",
          "data": {
            "text/html": [
              "<div>\n",
              "<style scoped>\n",
              "    .dataframe tbody tr th:only-of-type {\n",
              "        vertical-align: middle;\n",
              "    }\n",
              "\n",
              "    .dataframe tbody tr th {\n",
              "        vertical-align: top;\n",
              "    }\n",
              "\n",
              "    .dataframe thead th {\n",
              "        text-align: right;\n",
              "    }\n",
              "</style>\n",
              "<table border=\"1\" class=\"dataframe\">\n",
              "  <thead>\n",
              "    <tr style=\"text-align: right;\">\n",
              "      <th></th>\n",
              "      <th>Airline</th>\n",
              "      <th>Source</th>\n",
              "      <th>Destination</th>\n",
              "      <th>Price</th>\n",
              "      <th>day</th>\n",
              "      <th>month</th>\n",
              "      <th>weekday</th>\n",
              "      <th>duration</th>\n",
              "      <th>dep_time</th>\n",
              "      <th>arrival_time</th>\n",
              "      <th>total_stops</th>\n",
              "      <th>additional_info</th>\n",
              "    </tr>\n",
              "  </thead>\n",
              "  <tbody>\n",
              "    <tr>\n",
              "      <th>0</th>\n",
              "      <td>Airline C</td>\n",
              "      <td>Delhi</td>\n",
              "      <td>Cochin</td>\n",
              "      <td>7480</td>\n",
              "      <td>12</td>\n",
              "      <td>6</td>\n",
              "      <td>2</td>\n",
              "      <td>765</td>\n",
              "      <td>Evening</td>\n",
              "      <td>Morning</td>\n",
              "      <td>1</td>\n",
              "      <td>no info</td>\n",
              "    </tr>\n",
              "    <tr>\n",
              "      <th>1</th>\n",
              "      <td>Airline A</td>\n",
              "      <td>Banglore</td>\n",
              "      <td>Delhi</td>\n",
              "      <td>8016</td>\n",
              "      <td>18</td>\n",
              "      <td>6</td>\n",
              "      <td>1</td>\n",
              "      <td>185</td>\n",
              "      <td>Evening</td>\n",
              "      <td>Night</td>\n",
              "      <td>0</td>\n",
              "      <td>no info</td>\n",
              "    </tr>\n",
              "    <tr>\n",
              "      <th>2</th>\n",
              "      <td>Airline C</td>\n",
              "      <td>Delhi</td>\n",
              "      <td>Cochin</td>\n",
              "      <td>8879</td>\n",
              "      <td>18</td>\n",
              "      <td>5</td>\n",
              "      <td>5</td>\n",
              "      <td>925</td>\n",
              "      <td>Night</td>\n",
              "      <td>Evening</td>\n",
              "      <td>1</td>\n",
              "      <td>no info</td>\n",
              "    </tr>\n",
              "    <tr>\n",
              "      <th>3</th>\n",
              "      <td>Airline A</td>\n",
              "      <td>Kolkata</td>\n",
              "      <td>Banglore</td>\n",
              "      <td>9663</td>\n",
              "      <td>6</td>\n",
              "      <td>5</td>\n",
              "      <td>0</td>\n",
              "      <td>735</td>\n",
              "      <td>Evening</td>\n",
              "      <td>Morning</td>\n",
              "      <td>1</td>\n",
              "      <td>in-flight meal not included</td>\n",
              "    </tr>\n",
              "    <tr>\n",
              "      <th>4</th>\n",
              "      <td>Airline A</td>\n",
              "      <td>Kolkata</td>\n",
              "      <td>Banglore</td>\n",
              "      <td>9663</td>\n",
              "      <td>9</td>\n",
              "      <td>5</td>\n",
              "      <td>3</td>\n",
              "      <td>330</td>\n",
              "      <td>Morning</td>\n",
              "      <td>Afternoon</td>\n",
              "      <td>1</td>\n",
              "      <td>in-flight meal not included</td>\n",
              "    </tr>\n",
              "  </tbody>\n",
              "</table>\n",
              "</div>"
            ],
            "text/plain": [
              "     Airline    Source  ... total_stops              additional_info\n",
              "0  Airline C     Delhi  ...           1                      no info\n",
              "1  Airline A  Banglore  ...           0                      no info\n",
              "2  Airline C     Delhi  ...           1                      no info\n",
              "3  Airline A   Kolkata  ...           1  in-flight meal not included\n",
              "4  Airline A   Kolkata  ...           1  in-flight meal not included\n",
              "\n",
              "[5 rows x 12 columns]"
            ]
          },
          "metadata": {
            "tags": []
          },
          "execution_count": 26
        }
      ]
    },
    {
      "cell_type": "markdown",
      "metadata": {
        "id": "1YQB7QpyXPLx"
      },
      "source": [
        "##Date of Journey\n"
      ]
    },
    {
      "cell_type": "code",
      "metadata": {
        "id": "YjyiN_u-PhkT"
      },
      "source": [
        "df['day'] = pd.to_datetime(df.Date_of_Journey, format='%d/%m/%Y').dt.day\n",
        "df['month'] = pd.to_datetime(df.Date_of_Journey, format='%d/%m/%Y').dt.month\n",
        "df['weekday']= pd.to_datetime(df.Date_of_Journey, format='%d/%m/%Y').dt.weekday\n",
        "\n",
        "df.drop('Date_of_Journey',1,inplace=True)"
      ],
      "execution_count": null,
      "outputs": []
    },
    {
      "cell_type": "code",
      "metadata": {
        "id": "dFbZKauBPWtn",
        "colab": {
          "base_uri": "https://localhost:8080/",
          "height": 112
        },
        "outputId": "d3a3aade-57dc-48c9-cc0e-7c5f644df32e"
      },
      "source": [
        "df[['day','month','weekday']].head(2)"
      ],
      "execution_count": null,
      "outputs": [
        {
          "output_type": "execute_result",
          "data": {
            "text/html": [
              "<div>\n",
              "<style scoped>\n",
              "    .dataframe tbody tr th:only-of-type {\n",
              "        vertical-align: middle;\n",
              "    }\n",
              "\n",
              "    .dataframe tbody tr th {\n",
              "        vertical-align: top;\n",
              "    }\n",
              "\n",
              "    .dataframe thead th {\n",
              "        text-align: right;\n",
              "    }\n",
              "</style>\n",
              "<table border=\"1\" class=\"dataframe\">\n",
              "  <thead>\n",
              "    <tr style=\"text-align: right;\">\n",
              "      <th></th>\n",
              "      <th>day</th>\n",
              "      <th>month</th>\n",
              "      <th>weekday</th>\n",
              "    </tr>\n",
              "  </thead>\n",
              "  <tbody>\n",
              "    <tr>\n",
              "      <th>0</th>\n",
              "      <td>12</td>\n",
              "      <td>6</td>\n",
              "      <td>2</td>\n",
              "    </tr>\n",
              "    <tr>\n",
              "      <th>1</th>\n",
              "      <td>18</td>\n",
              "      <td>6</td>\n",
              "      <td>1</td>\n",
              "    </tr>\n",
              "  </tbody>\n",
              "</table>\n",
              "</div>"
            ],
            "text/plain": [
              "   day  month  weekday\n",
              "0   12      6        2\n",
              "1   18      6        1"
            ]
          },
          "metadata": {
            "tags": []
          },
          "execution_count": 329
        }
      ]
    },
    {
      "cell_type": "markdown",
      "metadata": {
        "id": "cqmHBWigXRjS"
      },
      "source": [
        "##Duration"
      ]
    },
    {
      "cell_type": "code",
      "metadata": {
        "id": "Zvt5myn6WfJU"
      },
      "source": [
        "df['duration']=  df['Duration']\\\n",
        "                         .str.replace(\"h\", '*60').str.replace(' ','+').str.replace('m','*1').apply(eval)\n",
        "df.drop('Duration',1,inplace=True)"
      ],
      "execution_count": null,
      "outputs": []
    },
    {
      "cell_type": "code",
      "metadata": {
        "id": "dZ4qSrdDXTaS"
      },
      "source": [
        "\n",
        "def duration(test):\n",
        "    test = test.strip()\n",
        "    total=test.split(' ')\n",
        "    to=total[0]\n",
        "    hrs=(int)(to[:-1])*60\n",
        "    if((len(total))==2):\n",
        "        mint=(int)(total[1][:-1])\n",
        "        hrs=hrs+mint\n",
        "    test=str(hrs)\n",
        "    return test\n",
        "df['duration']=df['Duration'].apply(duration)\n",
        "df.drop('Duration',1,inplace=True)\n",
        "\n"
      ],
      "execution_count": null,
      "outputs": []
    },
    {
      "cell_type": "markdown",
      "metadata": {
        "id": "SjuAZqgvazdq"
      },
      "source": [
        "HOW IT WORKS"
      ]
    },
    {
      "cell_type": "code",
      "metadata": {
        "id": "-BzxOROBXS_v",
        "colab": {
          "base_uri": "https://localhost:8080/",
          "height": 35
        },
        "outputId": "6c23ade2-9109-4cb5-f1bb-3489cc05dd6f"
      },
      "source": [
        "# ('12h 40m'.split(' ')                 ['12h','40m']\n",
        "# ('12h 40m'.split(' ')[0]              '12h'\n",
        "# ('12h 40m'.split(' ')[0][:-1])        '12'\n",
        "(int)('12h 40m'.split(' ')[0][:-1])*60 + (int)(['12h','40m'][1][:-1]) "
      ],
      "execution_count": null,
      "outputs": [
        {
          "output_type": "execute_result",
          "data": {
            "text/plain": [
              "760"
            ]
          },
          "metadata": {
            "tags": []
          },
          "execution_count": 100
        }
      ]
    },
    {
      "cell_type": "code",
      "metadata": {
        "id": "yntbeQoUa6KO",
        "colab": {
          "base_uri": "https://localhost:8080/",
          "height": 170
        },
        "outputId": "14cdbe28-8b85-41e7-e5e7-f315e06795a4"
      },
      "source": [
        "df.head(1)"
      ],
      "execution_count": null,
      "outputs": [
        {
          "output_type": "execute_result",
          "data": {
            "text/html": [
              "<div>\n",
              "<style scoped>\n",
              "    .dataframe tbody tr th:only-of-type {\n",
              "        vertical-align: middle;\n",
              "    }\n",
              "\n",
              "    .dataframe tbody tr th {\n",
              "        vertical-align: top;\n",
              "    }\n",
              "\n",
              "    .dataframe thead th {\n",
              "        text-align: right;\n",
              "    }\n",
              "</style>\n",
              "<table border=\"1\" class=\"dataframe\">\n",
              "  <thead>\n",
              "    <tr style=\"text-align: right;\">\n",
              "      <th></th>\n",
              "      <th>Airline</th>\n",
              "      <th>Source</th>\n",
              "      <th>Destination</th>\n",
              "      <th>Route</th>\n",
              "      <th>Dep_Time</th>\n",
              "      <th>Arrival_Time</th>\n",
              "      <th>Total_Stops</th>\n",
              "      <th>Additional_Info</th>\n",
              "      <th>Price</th>\n",
              "      <th>day</th>\n",
              "      <th>month</th>\n",
              "      <th>weekday</th>\n",
              "      <th>duration</th>\n",
              "    </tr>\n",
              "  </thead>\n",
              "  <tbody>\n",
              "    <tr>\n",
              "      <th>0</th>\n",
              "      <td>Airline C</td>\n",
              "      <td>Delhi</td>\n",
              "      <td>Cochin</td>\n",
              "      <td>DEL → MAA → COK</td>\n",
              "      <td>20:40</td>\n",
              "      <td>09:25 13 Jun</td>\n",
              "      <td>1 stop</td>\n",
              "      <td>No info</td>\n",
              "      <td>7480</td>\n",
              "      <td>12</td>\n",
              "      <td>6</td>\n",
              "      <td>2</td>\n",
              "      <td>765</td>\n",
              "    </tr>\n",
              "  </tbody>\n",
              "</table>\n",
              "</div>"
            ],
            "text/plain": [
              "     Airline Source Destination            Route  ... day month weekday duration\n",
              "0  Airline C  Delhi      Cochin  DEL → MAA → COK  ...  12     6       2      765\n",
              "\n",
              "[1 rows x 13 columns]"
            ]
          },
          "metadata": {
            "tags": []
          },
          "execution_count": 332
        }
      ]
    },
    {
      "cell_type": "markdown",
      "metadata": {
        "id": "__MjpSuLgv16"
      },
      "source": [
        "## Departure Time/Arrival Time"
      ]
    },
    {
      "cell_type": "code",
      "metadata": {
        "id": "InBeBwOJa6Gm"
      },
      "source": [
        "def deparrtime(x):\n",
        "    x=x.strip()\n",
        "    tt=(int)(x.split(':')[0])\n",
        "    if(tt>=16 and tt<21):\n",
        "        x='Evening'\n",
        "    elif(tt>=21 or tt<5):\n",
        "        x='Night'\n",
        "    elif(tt>=5 and tt<11):\n",
        "        x='Morning'\n",
        "    elif(tt>=11 and tt<16):\n",
        "        x='Afternoon'\n",
        "    return x\n",
        "df['dep_time']=df['Dep_Time'].apply(deparrtime)\n",
        "df['arrival_time']=df['Arrival_Time'].apply(deparrtime)\n",
        "df.drop(['Dep_Time','Arrival_Time'],1,inplace=True)"
      ],
      "execution_count": null,
      "outputs": []
    },
    {
      "cell_type": "code",
      "metadata": {
        "id": "5sPfIWGUctq9"
      },
      "source": [
        ""
      ],
      "execution_count": null,
      "outputs": []
    },
    {
      "cell_type": "code",
      "metadata": {
        "id": "igBAjFCpctpI",
        "colab": {
          "base_uri": "https://localhost:8080/"
        },
        "outputId": "fe9e576b-7ccd-4b76-d41f-5bb1816ec471"
      },
      "source": [
        "df.arrival_time.value_counts()"
      ],
      "execution_count": null,
      "outputs": [
        {
          "output_type": "execute_result",
          "data": {
            "text/plain": [
              "Night        2735\n",
              "Evening      2308\n",
              "Afternoon    1488\n",
              "Morning      1480\n",
              "Name: arrival_time, dtype: int64"
            ]
          },
          "metadata": {
            "tags": []
          },
          "execution_count": 360
        }
      ]
    },
    {
      "cell_type": "markdown",
      "metadata": {
        "id": "yYMpaJ_OlN_S"
      },
      "source": [
        "##Total Stops"
      ]
    },
    {
      "cell_type": "code",
      "metadata": {
        "id": "eYGrAxgqlMwa"
      },
      "source": [
        "# df= pd.read_csv('df.csv')\n",
        "df['total_stops'] = df['Total_Stops']\\\n",
        "                    .replace(['1 stop', 'non-stop', '2 stops', '3 stops', '4 stops'], [1, 0, 2, 3, 4])\n",
        "\n",
        "df.drop('Total_Stops',1,inplace=True)"
      ],
      "execution_count": null,
      "outputs": []
    },
    {
      "cell_type": "code",
      "metadata": {
        "id": "OSu5tDqomwol",
        "colab": {
          "base_uri": "https://localhost:8080/"
        },
        "outputId": "09c00cae-c6d3-4741-e47a-805459c3bf45"
      },
      "source": [
        "df.total_stops.value_counts()"
      ],
      "execution_count": null,
      "outputs": [
        {
          "output_type": "execute_result",
          "data": {
            "text/plain": [
              "1    4235\n",
              "0    2630\n",
              "2    1112\n",
              "3      34\n",
              "Name: total_stops, dtype: int64"
            ]
          },
          "metadata": {
            "tags": []
          },
          "execution_count": 337
        }
      ]
    },
    {
      "cell_type": "code",
      "metadata": {
        "id": "5WKIwA4qnh9G",
        "colab": {
          "base_uri": "https://localhost:8080/",
          "height": 170
        },
        "outputId": "4e9c2790-1d0c-4f2b-b15d-7ca5e0fa864c"
      },
      "source": [
        "df.head(1)"
      ],
      "execution_count": null,
      "outputs": [
        {
          "output_type": "execute_result",
          "data": {
            "text/html": [
              "<div>\n",
              "<style scoped>\n",
              "    .dataframe tbody tr th:only-of-type {\n",
              "        vertical-align: middle;\n",
              "    }\n",
              "\n",
              "    .dataframe tbody tr th {\n",
              "        vertical-align: top;\n",
              "    }\n",
              "\n",
              "    .dataframe thead th {\n",
              "        text-align: right;\n",
              "    }\n",
              "</style>\n",
              "<table border=\"1\" class=\"dataframe\">\n",
              "  <thead>\n",
              "    <tr style=\"text-align: right;\">\n",
              "      <th></th>\n",
              "      <th>Airline</th>\n",
              "      <th>Source</th>\n",
              "      <th>Destination</th>\n",
              "      <th>Route</th>\n",
              "      <th>Additional_Info</th>\n",
              "      <th>Price</th>\n",
              "      <th>day</th>\n",
              "      <th>month</th>\n",
              "      <th>weekday</th>\n",
              "      <th>duration</th>\n",
              "      <th>dep_time</th>\n",
              "      <th>arrival_time</th>\n",
              "      <th>total_stops</th>\n",
              "    </tr>\n",
              "  </thead>\n",
              "  <tbody>\n",
              "    <tr>\n",
              "      <th>0</th>\n",
              "      <td>Airline C</td>\n",
              "      <td>Delhi</td>\n",
              "      <td>Cochin</td>\n",
              "      <td>DEL → MAA → COK</td>\n",
              "      <td>No info</td>\n",
              "      <td>7480</td>\n",
              "      <td>12</td>\n",
              "      <td>6</td>\n",
              "      <td>2</td>\n",
              "      <td>765</td>\n",
              "      <td>Evening</td>\n",
              "      <td>Morning</td>\n",
              "      <td>1</td>\n",
              "    </tr>\n",
              "  </tbody>\n",
              "</table>\n",
              "</div>"
            ],
            "text/plain": [
              "     Airline Source Destination  ... dep_time arrival_time  total_stops\n",
              "0  Airline C  Delhi      Cochin  ...  Evening      Morning            1\n",
              "\n",
              "[1 rows x 13 columns]"
            ]
          },
          "metadata": {
            "tags": []
          },
          "execution_count": 362
        }
      ]
    },
    {
      "cell_type": "markdown",
      "metadata": {
        "id": "ymc5yvh4gHzd"
      },
      "source": [
        "##OUTLIER"
      ]
    },
    {
      "cell_type": "code",
      "metadata": {
        "id": "0xDVYhO_gH81"
      },
      "source": [
        "cnames =  [\"Price\"]\n",
        "# #Detect and delete outliers from data\n",
        "for i in cnames:\n",
        "    q75, q25 = np.percentile(df.loc[:,i], [75 ,25])\n",
        "    iqr = q75 - q25\n",
        "    min = q25 - (iqr*1.5)\n",
        "    max = q75 + (iqr*1.5)\n",
        "    df = df.drop(df[df.loc[:,i] < min].index)\n",
        "    df = df.drop(df[df.loc[:,i] > max].index)"
      ],
      "execution_count": null,
      "outputs": []
    },
    {
      "cell_type": "markdown",
      "metadata": {
        "id": "usXf5nXVnqCN"
      },
      "source": [
        "##Additional Info"
      ]
    },
    {
      "cell_type": "code",
      "metadata": {
        "id": "oxZ-6F_onsPN",
        "colab": {
          "base_uri": "https://localhost:8080/"
        },
        "outputId": "3e34978e-1b65-4335-d4c5-63919866f410"
      },
      "source": [
        "df.additional_info.value_counts()"
      ],
      "execution_count": null,
      "outputs": [
        {
          "output_type": "execute_result",
          "data": {
            "text/plain": [
              "no info                        6191\n",
              "in-flight meal not included    1492\n",
              "others                          256\n",
              "Name: additional_info, dtype: int64"
            ]
          },
          "metadata": {
            "tags": []
          },
          "execution_count": 372
        }
      ]
    },
    {
      "cell_type": "markdown",
      "metadata": {
        "id": "ivXN4PtzoFDn"
      },
      "source": [
        "###Since this column has a big majority belonging to the same class, the model wont learn much from it, but still experimenting is necessary for any task. So I will try both ways."
      ]
    },
    {
      "cell_type": "code",
      "metadata": {
        "id": "WDDSdc8lnsMW"
      },
      "source": [
        "df['additional_info'] = df['Additional_Info'].apply(lambda row: str(row))\n",
        "df['additional_info'] = [x.lower() for x in list(df['additional_info'])]\n",
        "df.drop('Additional_Info',1,inplace=True)"
      ],
      "execution_count": null,
      "outputs": []
    },
    {
      "cell_type": "code",
      "metadata": {
        "id": "BvyiSRA9pUpm"
      },
      "source": [
        "df.drop('Route',1,inplace=True)"
      ],
      "execution_count": null,
      "outputs": []
    },
    {
      "cell_type": "code",
      "metadata": {
        "id": "pjL62p0_pUmV",
        "colab": {
          "base_uri": "https://localhost:8080/",
          "height": 261
        },
        "outputId": "d06d15c1-5d4f-4732-bdc9-9390cb08d1d5"
      },
      "source": [
        "df.head()"
      ],
      "execution_count": null,
      "outputs": [
        {
          "output_type": "execute_result",
          "data": {
            "text/html": [
              "<div>\n",
              "<style scoped>\n",
              "    .dataframe tbody tr th:only-of-type {\n",
              "        vertical-align: middle;\n",
              "    }\n",
              "\n",
              "    .dataframe tbody tr th {\n",
              "        vertical-align: top;\n",
              "    }\n",
              "\n",
              "    .dataframe thead th {\n",
              "        text-align: right;\n",
              "    }\n",
              "</style>\n",
              "<table border=\"1\" class=\"dataframe\">\n",
              "  <thead>\n",
              "    <tr style=\"text-align: right;\">\n",
              "      <th></th>\n",
              "      <th>Airline</th>\n",
              "      <th>Source</th>\n",
              "      <th>Destination</th>\n",
              "      <th>Price</th>\n",
              "      <th>day</th>\n",
              "      <th>month</th>\n",
              "      <th>weekday</th>\n",
              "      <th>duration</th>\n",
              "      <th>dep_time</th>\n",
              "      <th>arrival_time</th>\n",
              "      <th>total_stops</th>\n",
              "      <th>additional_info</th>\n",
              "    </tr>\n",
              "  </thead>\n",
              "  <tbody>\n",
              "    <tr>\n",
              "      <th>0</th>\n",
              "      <td>Airline C</td>\n",
              "      <td>Delhi</td>\n",
              "      <td>Cochin</td>\n",
              "      <td>7480</td>\n",
              "      <td>12</td>\n",
              "      <td>6</td>\n",
              "      <td>2</td>\n",
              "      <td>765</td>\n",
              "      <td>Evening</td>\n",
              "      <td>Morning</td>\n",
              "      <td>1</td>\n",
              "      <td>no info</td>\n",
              "    </tr>\n",
              "    <tr>\n",
              "      <th>1</th>\n",
              "      <td>Airline A</td>\n",
              "      <td>Banglore</td>\n",
              "      <td>Delhi</td>\n",
              "      <td>8016</td>\n",
              "      <td>18</td>\n",
              "      <td>6</td>\n",
              "      <td>1</td>\n",
              "      <td>185</td>\n",
              "      <td>Evening</td>\n",
              "      <td>Night</td>\n",
              "      <td>0</td>\n",
              "      <td>no info</td>\n",
              "    </tr>\n",
              "    <tr>\n",
              "      <th>2</th>\n",
              "      <td>Airline C</td>\n",
              "      <td>Delhi</td>\n",
              "      <td>Cochin</td>\n",
              "      <td>8879</td>\n",
              "      <td>18</td>\n",
              "      <td>5</td>\n",
              "      <td>5</td>\n",
              "      <td>925</td>\n",
              "      <td>Night</td>\n",
              "      <td>Evening</td>\n",
              "      <td>1</td>\n",
              "      <td>no info</td>\n",
              "    </tr>\n",
              "    <tr>\n",
              "      <th>3</th>\n",
              "      <td>Airline A</td>\n",
              "      <td>Kolkata</td>\n",
              "      <td>Banglore</td>\n",
              "      <td>9663</td>\n",
              "      <td>6</td>\n",
              "      <td>5</td>\n",
              "      <td>0</td>\n",
              "      <td>735</td>\n",
              "      <td>Evening</td>\n",
              "      <td>Morning</td>\n",
              "      <td>1</td>\n",
              "      <td>in-flight meal not included</td>\n",
              "    </tr>\n",
              "    <tr>\n",
              "      <th>4</th>\n",
              "      <td>Airline A</td>\n",
              "      <td>Kolkata</td>\n",
              "      <td>Banglore</td>\n",
              "      <td>9663</td>\n",
              "      <td>9</td>\n",
              "      <td>5</td>\n",
              "      <td>3</td>\n",
              "      <td>330</td>\n",
              "      <td>Morning</td>\n",
              "      <td>Afternoon</td>\n",
              "      <td>1</td>\n",
              "      <td>in-flight meal not included</td>\n",
              "    </tr>\n",
              "  </tbody>\n",
              "</table>\n",
              "</div>"
            ],
            "text/plain": [
              "     Airline    Source  ... total_stops              additional_info\n",
              "0  Airline C     Delhi  ...           1                      no info\n",
              "1  Airline A  Banglore  ...           0                      no info\n",
              "2  Airline C     Delhi  ...           1                      no info\n",
              "3  Airline A   Kolkata  ...           1  in-flight meal not included\n",
              "4  Airline A   Kolkata  ...           1  in-flight meal not included\n",
              "\n",
              "[5 rows x 12 columns]"
            ]
          },
          "metadata": {
            "tags": []
          },
          "execution_count": 344
        }
      ]
    },
    {
      "cell_type": "code",
      "metadata": {
        "id": "zJgskJiNqCTW"
      },
      "source": [
        "df.to_csv('df.csv')\n",
        "#for future"
      ],
      "execution_count": null,
      "outputs": []
    },
    {
      "cell_type": "markdown",
      "metadata": {
        "id": "l5yqMa_ANu0T"
      },
      "source": [
        "#Visualising Key features"
      ]
    },
    {
      "cell_type": "code",
      "metadata": {
        "id": "uUUaw6Q7VSLx"
      },
      "source": [
        "df = pd.read_csv('df.csv')"
      ],
      "execution_count": null,
      "outputs": []
    },
    {
      "cell_type": "code",
      "metadata": {
        "id": "4iG28jOBr-jX"
      },
      "source": [
        "time= df.copy()"
      ],
      "execution_count": null,
      "outputs": []
    },
    {
      "cell_type": "code",
      "metadata": {
        "id": "SJ248JdgKWTt"
      },
      "source": [
        "# df['Date_of_Journey'] = pd.to_datetime(df['Date_of_Journey'])\n",
        "time = df.groupby(pd.Grouper(key='Date_of_Journey',freq='M')).agg({'Price':'mean'}).dropna()"
      ],
      "execution_count": null,
      "outputs": []
    },
    {
      "cell_type": "code",
      "metadata": {
        "id": "7FCkgwKO1sXs",
        "colab": {
          "base_uri": "https://localhost:8080/",
          "height": 335
        },
        "outputId": "1e2e3a70-6e13-4b34-a092-a51f26d70bd1"
      },
      "source": [
        "plt.figure(figsize=(15,5))\n",
        "vis1 = sns.barplot(x=time.index,y=time['Price'])"
      ],
      "execution_count": null,
      "outputs": [
        {
          "output_type": "display_data",
          "data": {
            "image/png": "[encoded data removed]",
            "text/plain": [
              "<Figure size 1080x360 with 1 Axes>"
            ]
          },
          "metadata": {
            "tags": [],
            "needs_background": "light"
          }
        }
      ]
    },
    {
      "cell_type": "code",
      "metadata": {
        "id": "3jQU9y9Os1_0"
      },
      "source": [
        "time['month']= time['month']\\\n",
        "          .replace({1:'January',3:'March',4:'April',5:'May',6:'June',9:'September',12:'December'})"
      ],
      "execution_count": null,
      "outputs": []
    },
    {
      "cell_type": "code",
      "metadata": {
        "id": "T5ExfjP6tPub",
        "colab": {
          "base_uri": "https://localhost:8080/",
          "height": 283
        },
        "outputId": "00a5646a-d284-4871-abe9-b8224da8dceb"
      },
      "source": [
        "val= list(dict(time.month.value_counts()).values())\n",
        "key= list(dict(time.month.value_counts()).keys()) \n",
        "sns.barplot(x=val,y=key)\n"
      ],
      "execution_count": null,
      "outputs": [
        {
          "output_type": "execute_result",
          "data": {
            "text/plain": [
              "<matplotlib.axes._subplots.AxesSubplot at 0x7effe3483160>"
            ]
          },
          "metadata": {
            "tags": []
          },
          "execution_count": 370
        },
        {
          "output_type": "display_data",
          "data": {
            "image/png": "[encoded data removed]",
            "text/plain": [
              "<Figure size 432x288 with 1 Axes>"
            ]
          },
          "metadata": {
            "tags": [],
            "needs_background": "light"
          }
        }
      ]
    },
    {
      "cell_type": "code",
      "metadata": {
        "id": "gBcfCGRMWa1a",
        "colab": {
          "base_uri": "https://localhost:8080/",
          "height": 300
        },
        "outputId": "b2006352-048a-4652-f8a5-6151746ba391"
      },
      "source": [
        "time.groupby(['month']).agg({'Price':np.mean,'month':np.count_nonzero})"
      ],
      "execution_count": null,
      "outputs": [
        {
          "output_type": "execute_result",
          "data": {
            "text/html": [
              "<div>\n",
              "<style scoped>\n",
              "    .dataframe tbody tr th:only-of-type {\n",
              "        vertical-align: middle;\n",
              "    }\n",
              "\n",
              "    .dataframe tbody tr th {\n",
              "        vertical-align: top;\n",
              "    }\n",
              "\n",
              "    .dataframe thead th {\n",
              "        text-align: right;\n",
              "    }\n",
              "</style>\n",
              "<table border=\"1\" class=\"dataframe\">\n",
              "  <thead>\n",
              "    <tr style=\"text-align: right;\">\n",
              "      <th></th>\n",
              "      <th>Price</th>\n",
              "      <th>month</th>\n",
              "    </tr>\n",
              "    <tr>\n",
              "      <th>month</th>\n",
              "      <th></th>\n",
              "      <th></th>\n",
              "    </tr>\n",
              "  </thead>\n",
              "  <tbody>\n",
              "    <tr>\n",
              "      <th>April</th>\n",
              "      <td>5252.538217</td>\n",
              "      <td>314</td>\n",
              "    </tr>\n",
              "    <tr>\n",
              "      <th>December</th>\n",
              "      <td>9020.275580</td>\n",
              "      <td>733</td>\n",
              "    </tr>\n",
              "    <tr>\n",
              "      <th>January</th>\n",
              "      <td>10548.077500</td>\n",
              "      <td>800</td>\n",
              "    </tr>\n",
              "    <tr>\n",
              "      <th>June</th>\n",
              "      <td>9221.708641</td>\n",
              "      <td>1898</td>\n",
              "    </tr>\n",
              "    <tr>\n",
              "      <th>March</th>\n",
              "      <td>8348.433313</td>\n",
              "      <td>1627</td>\n",
              "    </tr>\n",
              "    <tr>\n",
              "      <th>May</th>\n",
              "      <td>9321.172304</td>\n",
              "      <td>1567</td>\n",
              "    </tr>\n",
              "    <tr>\n",
              "      <th>September</th>\n",
              "      <td>9520.490672</td>\n",
              "      <td>1072</td>\n",
              "    </tr>\n",
              "  </tbody>\n",
              "</table>\n",
              "</div>"
            ],
            "text/plain": [
              "                  Price  month\n",
              "month                         \n",
              "April       5252.538217    314\n",
              "December    9020.275580    733\n",
              "January    10548.077500    800\n",
              "June        9221.708641   1898\n",
              "March       8348.433313   1627\n",
              "May         9321.172304   1567\n",
              "September   9520.490672   1072"
            ]
          },
          "metadata": {
            "tags": []
          },
          "execution_count": 13
        }
      ]
    },
    {
      "cell_type": "code",
      "metadata": {
        "id": "4jpfg73GxxQA",
        "colab": {
          "base_uri": "https://localhost:8080/",
          "height": 406
        },
        "outputId": "87442472-553c-4797-bf09-4475b7d37d26"
      },
      "source": [
        "monthly_avg = time.groupby(['month']).agg({'Price':np.mean}).reset_index()\n",
        "monthly_avg.plot(x='month',y='Price',figsize=(6,6))"
      ],
      "execution_count": null,
      "outputs": [
        {
          "output_type": "execute_result",
          "data": {
            "text/plain": [
              "<matplotlib.axes._subplots.AxesSubplot at 0x7f0b6d8afdd8>"
            ]
          },
          "metadata": {
            "tags": []
          },
          "execution_count": 30
        },
        {
          "output_type": "display_data",
          "data": {
            "image/png": "[encoded data removed]",
            "text/plain": [
              "<Figure size 432x432 with 1 Axes>"
            ]
          },
          "metadata": {
            "tags": [],
            "needs_background": "light"
          }
        }
      ]
    },
    {
      "cell_type": "code",
      "metadata": {
        "id": "FA9gIlysxxNJ",
        "colab": {
          "base_uri": "https://localhost:8080/",
          "height": 302
        },
        "outputId": "41a4f9dc-f154-4e1d-bc11-f87e9dc2f5b8"
      },
      "source": [
        "monthly_avg = pd.DataFrame(time.groupby(['month']).agg({'Price':np.mean,'month':np.count_nonzero}))\n",
        "plt.plot(monthly_avg,scaley=True)"
      ],
      "execution_count": null,
      "outputs": [
        {
          "output_type": "execute_result",
          "data": {
            "text/plain": [
              "[<matplotlib.lines.Line2D at 0x7f0b6d7edcf8>,\n",
              " <matplotlib.lines.Line2D at 0x7f0b6d7ede10>]"
            ]
          },
          "metadata": {
            "tags": []
          },
          "execution_count": 31
        },
        {
          "output_type": "display_data",
          "data": {
            "image/png": "[encoded data removed]",
            "text/plain": [
              "<Figure size 432x288 with 1 Axes>"
            ]
          },
          "metadata": {
            "tags": [],
            "needs_background": "light"
          }
        }
      ]
    },
    {
      "cell_type": "code",
      "metadata": {
        "id": "QMCKYsb1bv53",
        "colab": {
          "base_uri": "https://localhost:8080/",
          "height": 297
        },
        "outputId": "2778ced5-5337-421b-bc35-078269461e1c"
      },
      "source": [
        "sns.barplot(x=monthly_avg.index, y = monthly_avg['Price'])"
      ],
      "execution_count": null,
      "outputs": [
        {
          "output_type": "execute_result",
          "data": {
            "text/plain": [
              "<matplotlib.axes._subplots.AxesSubplot at 0x7f0b6d5e5080>"
            ]
          },
          "metadata": {
            "tags": []
          },
          "execution_count": 35
        },
        {
          "output_type": "display_data",
          "data": {
            "image/png": "[encoded data removed]",
            "text/plain": [
              "<Figure size 432x288 with 1 Axes>"
            ]
          },
          "metadata": {
            "tags": [],
            "needs_background": "light"
          }
        }
      ]
    },
    {
      "cell_type": "code",
      "metadata": {
        "id": "qTswhPbya-EY",
        "colab": {
          "base_uri": "https://localhost:8080/",
          "height": 298
        },
        "outputId": "b460905a-8e8e-4aa2-daef-c42284c5c950"
      },
      "source": [
        "sns.barplot(x=time['total_stops'],y=time['Price'])"
      ],
      "execution_count": null,
      "outputs": [
        {
          "output_type": "execute_result",
          "data": {
            "text/plain": [
              "<matplotlib.axes._subplots.AxesSubplot at 0x7f0b6d61b1d0>"
            ]
          },
          "metadata": {
            "tags": []
          },
          "execution_count": 33
        },
        {
          "output_type": "display_data",
          "data": {
            "image/png": "[encoded data removed]",
            "text/plain": [
              "<Figure size 432x288 with 1 Axes>"
            ]
          },
          "metadata": {
            "tags": [],
            "needs_background": "light"
          }
        }
      ]
    },
    {
      "cell_type": "markdown",
      "metadata": {
        "id": "DRxt1lX1N5fZ"
      },
      "source": [
        "# Price Split to check if theres a Visual difference in higher and lower prices "
      ]
    },
    {
      "cell_type": "markdown",
      "metadata": {
        "id": "60YsJCmSir06"
      },
      "source": [
        "###before outlier"
      ]
    },
    {
      "cell_type": "code",
      "metadata": {
        "id": "gpDeHCTbgl56"
      },
      "source": [
        "from warnings import filterwarnings\n",
        "filterwarnings('ignore')"
      ],
      "execution_count": null,
      "outputs": []
    },
    {
      "cell_type": "code",
      "metadata": {
        "id": "nESudJtkPais"
      },
      "source": [
        "time['pricesplit'] = 0\n",
        "for i in range(len(time)):\n",
        "  if time.Price.iloc[i]>=9000:\n",
        "    time['pricesplit'].iloc[i] = 1 \n",
        "  else:\n",
        "    time['pricesplit'].iloc[i] = 0\n"
      ],
      "execution_count": null,
      "outputs": []
    },
    {
      "cell_type": "code",
      "metadata": {
        "id": "GShilabFPafg",
        "colab": {
          "base_uri": "https://localhost:8080/",
          "height": 72
        },
        "outputId": "5030ee06-a2a1-4da8-849c-d739ec21ae9c"
      },
      "source": [
        "time.pricesplit.value_counts()"
      ],
      "execution_count": null,
      "outputs": [
        {
          "output_type": "execute_result",
          "data": {
            "text/plain": [
              "0    4379\n",
              "1    3632\n",
              "Name: pricesplit, dtype: int64"
            ]
          },
          "metadata": {
            "tags": []
          },
          "execution_count": 42
        }
      ]
    },
    {
      "cell_type": "code",
      "metadata": {
        "id": "mUPJFQPNgzYY",
        "colab": {
          "base_uri": "https://localhost:8080/",
          "height": 118
        },
        "outputId": "a7cddf83-8f69-47d0-8255-aff36da5885b"
      },
      "source": [
        "time.head(1)"
      ],
      "execution_count": null,
      "outputs": [
        {
          "output_type": "execute_result",
          "data": {
            "text/html": [
              "<div>\n",
              "<style scoped>\n",
              "    .dataframe tbody tr th:only-of-type {\n",
              "        vertical-align: middle;\n",
              "    }\n",
              "\n",
              "    .dataframe tbody tr th {\n",
              "        vertical-align: top;\n",
              "    }\n",
              "\n",
              "    .dataframe thead th {\n",
              "        text-align: right;\n",
              "    }\n",
              "</style>\n",
              "<table border=\"1\" class=\"dataframe\">\n",
              "  <thead>\n",
              "    <tr style=\"text-align: right;\">\n",
              "      <th></th>\n",
              "      <th>Unnamed: 0</th>\n",
              "      <th>Airline</th>\n",
              "      <th>Source</th>\n",
              "      <th>Destination</th>\n",
              "      <th>Price</th>\n",
              "      <th>day</th>\n",
              "      <th>month</th>\n",
              "      <th>weekday</th>\n",
              "      <th>duration</th>\n",
              "      <th>dep_time</th>\n",
              "      <th>arrival_time</th>\n",
              "      <th>total_stops</th>\n",
              "      <th>additional_info</th>\n",
              "      <th>pricesplit</th>\n",
              "    </tr>\n",
              "  </thead>\n",
              "  <tbody>\n",
              "    <tr>\n",
              "      <th>0</th>\n",
              "      <td>0</td>\n",
              "      <td>Airline C</td>\n",
              "      <td>Delhi</td>\n",
              "      <td>Cochin</td>\n",
              "      <td>7480</td>\n",
              "      <td>6</td>\n",
              "      <td>December</td>\n",
              "      <td>4</td>\n",
              "      <td>765</td>\n",
              "      <td>Evening</td>\n",
              "      <td>Morning</td>\n",
              "      <td>1</td>\n",
              "      <td>no info</td>\n",
              "      <td>0</td>\n",
              "    </tr>\n",
              "  </tbody>\n",
              "</table>\n",
              "</div>"
            ],
            "text/plain": [
              "   Unnamed: 0    Airline Source  ... total_stops  additional_info  pricesplit\n",
              "0           0  Airline C  Delhi  ...           1          no info           0\n",
              "\n",
              "[1 rows x 14 columns]"
            ]
          },
          "metadata": {
            "tags": []
          },
          "execution_count": 43
        }
      ]
    },
    {
      "cell_type": "code",
      "metadata": {
        "id": "HGQzX2_4g8yw",
        "colab": {
          "base_uri": "https://localhost:8080/",
          "height": 497
        },
        "outputId": "a6a31a17-f2b2-412c-b070-96ba0fc1985e"
      },
      "source": [
        "plt.figure(figsize=(12, 8))\n",
        "\n",
        "plt.subplot(1,2,1)\n",
        "sns.violinplot(x = 'pricesplit', y = 'duration', data = time[0:])\n",
        "\n",
        "plt.subplot(1,2,2)\n",
        "sns.distplot(time[time['pricesplit'] == 1]['duration'][0:] , label = \"1\", color = 'red')\n",
        "sns.distplot(time[time['pricesplit'] == 0]['duration'][0:] , label = \"0\" , color = 'blue' )\n",
        "plt.show()"
      ],
      "execution_count": null,
      "outputs": [
        {
          "output_type": "display_data",
          "data": {
            "image/png": "[encoded data removed]",
            "text/plain": [
              "<Figure size 864x576 with 2 Axes>"
            ]
          },
          "metadata": {
            "tags": [],
            "needs_background": "light"
          }
        }
      ]
    },
    {
      "cell_type": "code",
      "metadata": {
        "id": "LBoE0Swvkn8y"
      },
      "source": [
        ""
      ],
      "execution_count": null,
      "outputs": []
    },
    {
      "cell_type": "markdown",
      "metadata": {
        "id": "NS2-wsq2iwAw"
      },
      "source": [
        "###after outlier removal"
      ]
    },
    {
      "cell_type": "code",
      "metadata": {
        "id": "P2O9N7rAi_8E"
      },
      "source": [
        "timeo = time.copy()"
      ],
      "execution_count": null,
      "outputs": []
    },
    {
      "cell_type": "code",
      "metadata": {
        "id": "Wq3fOTNGivks"
      },
      "source": [
        "# timeo.drop(timeo.Price.idxmax(),inplace=True)\n",
        "# timeo[['duration']].sort_values(by='duration')[-20:]"
      ],
      "execution_count": null,
      "outputs": []
    },
    {
      "cell_type": "code",
      "metadata": {
        "id": "M_HXOaJNivhL",
        "colab": {
          "base_uri": "https://localhost:8080/",
          "height": 497
        },
        "outputId": "efd2e02e-e4e4-4f2f-8a06-07166e5cb574"
      },
      "source": [
        "plt.figure(figsize=(12, 8))\n",
        "\n",
        "plt.subplot(1,2,1)\n",
        "sns.violinplot(x = 'pricesplit', y = 'duration', data = timeo[0:])\n",
        "\n",
        "plt.subplot(1,2,2)\n",
        "sns.distplot(timeo[timeo['pricesplit'] == 1]['duration'][0:] , label = \"1\", color = 'red')\n",
        "sns.distplot(timeo[timeo['pricesplit'] == 0]['duration'][0:] , label = \"0\" , color = 'blue' )\n",
        "plt.show()"
      ],
      "execution_count": null,
      "outputs": [
        {
          "output_type": "display_data",
          "data": {
            "image/png": "[encoded data removed]",
            "text/plain": [
              "<Figure size 864x576 with 2 Axes>"
            ]
          },
          "metadata": {
            "tags": [],
            "needs_background": "light"
          }
        }
      ]
    },
    {
      "cell_type": "markdown",
      "metadata": {
        "id": "mCZ297LCOFbb"
      },
      "source": [
        "# FURTHER"
      ]
    },
    {
      "cell_type": "code",
      "metadata": {
        "id": "A0vLblnhuO-w"
      },
      "source": [
        "#fixing columns\n",
        "df=pd.read_csv('df.csv')"
      ],
      "execution_count": null,
      "outputs": []
    },
    {
      "cell_type": "code",
      "metadata": {
        "id": "6tvk9fNLuO6u"
      },
      "source": [
        "durr = df[(df['Source'] == 'Banglore') & (df['Destination'] == 'New Delhi')][['duration','Airline','Price']]\n",
        "# df.drop(df['Airline'] = .index)"
      ],
      "execution_count": null,
      "outputs": []
    },
    {
      "cell_type": "code",
      "metadata": {
        "id": "SzwFzkzEuWDt",
        "colab": {
          "base_uri": "https://localhost:8080/",
          "height": 363
        },
        "outputId": "9c62eaf9-9f25-4ff5-ff4b-6c4a64d0aaf5"
      },
      "source": [
        "durr.groupby(['Airline']).agg({'duration':np.mean,'Price':np.mean})"
      ],
      "execution_count": null,
      "outputs": [
        {
          "output_type": "execute_result",
          "data": {
            "text/html": [
              "<div>\n",
              "<style scoped>\n",
              "    .dataframe tbody tr th:only-of-type {\n",
              "        vertical-align: middle;\n",
              "    }\n",
              "\n",
              "    .dataframe tbody tr th {\n",
              "        vertical-align: top;\n",
              "    }\n",
              "\n",
              "    .dataframe thead th {\n",
              "        text-align: right;\n",
              "    }\n",
              "</style>\n",
              "<table border=\"1\" class=\"dataframe\">\n",
              "  <thead>\n",
              "    <tr style=\"text-align: right;\">\n",
              "      <th></th>\n",
              "      <th>duration</th>\n",
              "      <th>Price</th>\n",
              "    </tr>\n",
              "    <tr>\n",
              "      <th>Airline</th>\n",
              "      <th></th>\n",
              "      <th></th>\n",
              "    </tr>\n",
              "  </thead>\n",
              "  <tbody>\n",
              "    <tr>\n",
              "      <th>Airline A</th>\n",
              "      <td>823.338762</td>\n",
              "      <td>15094.729642</td>\n",
              "    </tr>\n",
              "    <tr>\n",
              "      <th>Airline B</th>\n",
              "      <td>200.960000</td>\n",
              "      <td>7291.008000</td>\n",
              "    </tr>\n",
              "    <tr>\n",
              "      <th>Airline C</th>\n",
              "      <td>1023.493590</td>\n",
              "      <td>11035.160256</td>\n",
              "    </tr>\n",
              "    <tr>\n",
              "      <th>Airline E</th>\n",
              "      <td>222.666667</td>\n",
              "      <td>6282.766667</td>\n",
              "    </tr>\n",
              "    <tr>\n",
              "      <th>Airline F</th>\n",
              "      <td>302.875000</td>\n",
              "      <td>9045.225000</td>\n",
              "    </tr>\n",
              "    <tr>\n",
              "      <th>Airline G</th>\n",
              "      <td>167.857143</td>\n",
              "      <td>6096.785714</td>\n",
              "    </tr>\n",
              "    <tr>\n",
              "      <th>Airline H</th>\n",
              "      <td>185.882353</td>\n",
              "      <td>7549.000000</td>\n",
              "    </tr>\n",
              "    <tr>\n",
              "      <th>Airline J</th>\n",
              "      <td>330.000000</td>\n",
              "      <td>62844.250000</td>\n",
              "    </tr>\n",
              "    <tr>\n",
              "      <th>Airline K</th>\n",
              "      <td>155.000000</td>\n",
              "      <td>11793.000000</td>\n",
              "    </tr>\n",
              "  </tbody>\n",
              "</table>\n",
              "</div>"
            ],
            "text/plain": [
              "              duration         Price\n",
              "Airline                             \n",
              "Airline A   823.338762  15094.729642\n",
              "Airline B   200.960000   7291.008000\n",
              "Airline C  1023.493590  11035.160256\n",
              "Airline E   222.666667   6282.766667\n",
              "Airline F   302.875000   9045.225000\n",
              "Airline G   167.857143   6096.785714\n",
              "Airline H   185.882353   7549.000000\n",
              "Airline J   330.000000  62844.250000\n",
              "Airline K   155.000000  11793.000000"
            ]
          },
          "metadata": {
            "tags": []
          },
          "execution_count": 128
        }
      ]
    },
    {
      "cell_type": "code",
      "metadata": {
        "id": "ZigR2Pc41IJ4",
        "colab": {
          "base_uri": "https://localhost:8080/",
          "height": 35
        },
        "outputId": "4951c3f2-9ab1-4420-b116-f705c44cc938"
      },
      "source": [
        "df[df['Airline'] == 'Airline K'].index"
      ],
      "execution_count": null,
      "outputs": [
        {
          "output_type": "execute_result",
          "data": {
            "text/plain": [
              "Int64Index([1307, 4484, 7975], dtype='int64')"
            ]
          },
          "metadata": {
            "tags": []
          },
          "execution_count": 149
        }
      ]
    },
    {
      "cell_type": "code",
      "metadata": {
        "id": "6we75L0I0dz-"
      },
      "source": [
        "df.drop(df[df['Airline'] == 'Airline L'].index,0,inplace=True)"
      ],
      "execution_count": null,
      "outputs": []
    },
    {
      "cell_type": "code",
      "metadata": {
        "id": "Jts6feGTimr0"
      },
      "source": [
        "for i in range(0,len(df[\"Airline\"])):\n",
        "    if df[\"Airline\"].iloc[i]==\"Airline K\":\n",
        "         df[\"Airline\"].iloc[i]=\"Others\"\n",
        "    elif df[\"Airline\"].iloc[i]==\"Airline L\":\n",
        "         df[\"Airline\"].iloc[i]=\"Others\"\n",
        "    elif df[\"Airline\"].iloc[i]==\"Airline I\":\n",
        "         df[\"Airline\"].iloc[i]=\"Others\""
      ],
      "execution_count": null,
      "outputs": []
    },
    {
      "cell_type": "code",
      "metadata": {
        "id": "2S9M_TQ2rWqn",
        "colab": {
          "base_uri": "https://localhost:8080/"
        },
        "outputId": "e8e089f9-4173-4f12-bc7d-0746ad543e9b"
      },
      "source": [
        "df.Airline.value_counts()"
      ],
      "execution_count": null,
      "outputs": [
        {
          "output_type": "execute_result",
          "data": {
            "text/plain": [
              "Airline A    2837\n",
              "Airline B    1550\n",
              "Airline C    1274\n",
              "Airline D     897\n",
              "Airline E     624\n",
              "Airline F     360\n",
              "Airline G     235\n",
              "Airline H     146\n",
              "Others         16\n",
              "Name: Airline, dtype: int64"
            ]
          },
          "metadata": {
            "tags": []
          },
          "execution_count": 376
        }
      ]
    },
    {
      "cell_type": "code",
      "metadata": {
        "id": "orM78nAW1w2U",
        "colab": {
          "base_uri": "https://localhost:8080/"
        },
        "outputId": "c9fe7c5a-ad59-48bb-bd68-eeb031db6f46"
      },
      "source": [
        "df.Source.value_counts()"
      ],
      "execution_count": null,
      "outputs": [
        {
          "output_type": "execute_result",
          "data": {
            "text/plain": [
              "Delhi       3295\n",
              "Kolkata     2148\n",
              "Banglore    1639\n",
              "Mumbai       522\n",
              "Chennai      289\n",
              "Name: Source, dtype: int64"
            ]
          },
          "metadata": {
            "tags": []
          },
          "execution_count": 232
        }
      ]
    },
    {
      "cell_type": "code",
      "metadata": {
        "id": "YEzXaOAk1wsi",
        "colab": {
          "base_uri": "https://localhost:8080/"
        },
        "outputId": "866b711f-0842-40ed-aeec-56f1efe8bae4"
      },
      "source": [
        "df.Destination.replace({'New Delhi':'Delhi'}, inplace=True)\n",
        "print(df.Destination.value_counts())"
      ],
      "execution_count": null,
      "outputs": [
        {
          "output_type": "stream",
          "text": [
            "Cochin       3280\n",
            "Banglore     2147\n",
            "Delhi         956\n",
            "New Delhi     630\n",
            "Hyderabad     520\n",
            "Kolkata       289\n",
            "Name: Destination, dtype: int64\n"
          ],
          "name": "stdout"
        }
      ]
    },
    {
      "cell_type": "code",
      "metadata": {
        "id": "uxPgzt4LeBHn",
        "colab": {
          "base_uri": "https://localhost:8080/"
        },
        "outputId": "8370bdb4-8f7a-465b-b370-1c0d88f44c11"
      },
      "source": [
        "df['pricesplit'] = 0\n",
        "for i in range(len(df)):\n",
        "  if df.Price.iloc[i]>=9000:\n",
        "    df['pricesplit'].iloc[i] = 1 \n",
        "  else:\n",
        "    df['pricesplit'].iloc[i] = 0"
      ],
      "execution_count": null,
      "outputs": [
        {
          "output_type": "stream",
          "text": [
            "/usr/local/lib/python3.6/dist-packages/pandas/core/indexing.py:670: SettingWithCopyWarning: \n",
            "A value is trying to be set on a copy of a slice from a DataFrame\n",
            "\n",
            "See the caveats in the documentation: https://pandas.pydata.org/pandas-docs/stable/user_guide/indexing.html#returning-a-view-versus-a-copy\n",
            "  iloc._setitem_with_indexer(indexer, value)\n"
          ],
          "name": "stderr"
        }
      ]
    },
    {
      "cell_type": "code",
      "metadata": {
        "id": "DJYDOhuLyn-o"
      },
      "source": [
        "df['distance'] = 903*(df['duration']/60)"
      ],
      "execution_count": null,
      "outputs": []
    },
    {
      "cell_type": "markdown",
      "metadata": {
        "id": "lEUJGIGhlEV9"
      },
      "source": [
        "#MODEL BUILDING"
      ]
    },
    {
      "cell_type": "code",
      "metadata": {
        "id": "cwD1gcCilENE"
      },
      "source": [
        "from sklearn.preprocessing import LabelEncoder,MinMaxScaler\n",
        "from sklearn.model_selection import train_test_split\n",
        "from sklearn.ensemble import RandomForestRegressor\n",
        "from sklearn.metrics import r2_score\n",
        "from sklearn.metrics import mean_squared_error as mse\n",
        "\n",
        "from math import sqrt"
      ],
      "execution_count": null,
      "outputs": []
    },
    {
      "cell_type": "code",
      "metadata": {
        "id": "0O9BKx1GLU-t",
        "colab": {
          "base_uri": "https://localhost:8080/",
          "height": 261
        },
        "outputId": "6dd5ec9c-a558-4261-d803-7be5bf54b704"
      },
      "source": [
        "df.head()"
      ],
      "execution_count": null,
      "outputs": [
        {
          "output_type": "execute_result",
          "data": {
            "text/html": [
              "<div>\n",
              "<style scoped>\n",
              "    .dataframe tbody tr th:only-of-type {\n",
              "        vertical-align: middle;\n",
              "    }\n",
              "\n",
              "    .dataframe tbody tr th {\n",
              "        vertical-align: top;\n",
              "    }\n",
              "\n",
              "    .dataframe thead th {\n",
              "        text-align: right;\n",
              "    }\n",
              "</style>\n",
              "<table border=\"1\" class=\"dataframe\">\n",
              "  <thead>\n",
              "    <tr style=\"text-align: right;\">\n",
              "      <th></th>\n",
              "      <th>Airline</th>\n",
              "      <th>Source</th>\n",
              "      <th>Destination</th>\n",
              "      <th>Price</th>\n",
              "      <th>day</th>\n",
              "      <th>month</th>\n",
              "      <th>weekday</th>\n",
              "      <th>duration</th>\n",
              "      <th>dep_time</th>\n",
              "      <th>arrival_time</th>\n",
              "      <th>total_stops</th>\n",
              "      <th>additional_info</th>\n",
              "      <th>distance</th>\n",
              "    </tr>\n",
              "  </thead>\n",
              "  <tbody>\n",
              "    <tr>\n",
              "      <th>0</th>\n",
              "      <td>Airline C</td>\n",
              "      <td>Delhi</td>\n",
              "      <td>Cochin</td>\n",
              "      <td>7480</td>\n",
              "      <td>12</td>\n",
              "      <td>6</td>\n",
              "      <td>2</td>\n",
              "      <td>765</td>\n",
              "      <td>Evening</td>\n",
              "      <td>Morning</td>\n",
              "      <td>1</td>\n",
              "      <td>no info</td>\n",
              "      <td>11513.25</td>\n",
              "    </tr>\n",
              "    <tr>\n",
              "      <th>1</th>\n",
              "      <td>Airline A</td>\n",
              "      <td>Banglore</td>\n",
              "      <td>Delhi</td>\n",
              "      <td>8016</td>\n",
              "      <td>18</td>\n",
              "      <td>6</td>\n",
              "      <td>1</td>\n",
              "      <td>185</td>\n",
              "      <td>Evening</td>\n",
              "      <td>Night</td>\n",
              "      <td>0</td>\n",
              "      <td>no info</td>\n",
              "      <td>2784.25</td>\n",
              "    </tr>\n",
              "    <tr>\n",
              "      <th>2</th>\n",
              "      <td>Airline C</td>\n",
              "      <td>Delhi</td>\n",
              "      <td>Cochin</td>\n",
              "      <td>8879</td>\n",
              "      <td>18</td>\n",
              "      <td>5</td>\n",
              "      <td>5</td>\n",
              "      <td>925</td>\n",
              "      <td>Night</td>\n",
              "      <td>Evening</td>\n",
              "      <td>1</td>\n",
              "      <td>no info</td>\n",
              "      <td>13921.25</td>\n",
              "    </tr>\n",
              "    <tr>\n",
              "      <th>3</th>\n",
              "      <td>Airline A</td>\n",
              "      <td>Kolkata</td>\n",
              "      <td>Banglore</td>\n",
              "      <td>9663</td>\n",
              "      <td>6</td>\n",
              "      <td>5</td>\n",
              "      <td>0</td>\n",
              "      <td>735</td>\n",
              "      <td>Evening</td>\n",
              "      <td>Morning</td>\n",
              "      <td>1</td>\n",
              "      <td>in-flight meal not included</td>\n",
              "      <td>11061.75</td>\n",
              "    </tr>\n",
              "    <tr>\n",
              "      <th>4</th>\n",
              "      <td>Airline A</td>\n",
              "      <td>Kolkata</td>\n",
              "      <td>Banglore</td>\n",
              "      <td>9663</td>\n",
              "      <td>9</td>\n",
              "      <td>5</td>\n",
              "      <td>3</td>\n",
              "      <td>330</td>\n",
              "      <td>Morning</td>\n",
              "      <td>Afternoon</td>\n",
              "      <td>1</td>\n",
              "      <td>in-flight meal not included</td>\n",
              "      <td>4966.50</td>\n",
              "    </tr>\n",
              "  </tbody>\n",
              "</table>\n",
              "</div>"
            ],
            "text/plain": [
              "     Airline    Source  ...              additional_info  distance\n",
              "0  Airline C     Delhi  ...                      no info  11513.25\n",
              "1  Airline A  Banglore  ...                      no info   2784.25\n",
              "2  Airline C     Delhi  ...                      no info  13921.25\n",
              "3  Airline A   Kolkata  ...  in-flight meal not included  11061.75\n",
              "4  Airline A   Kolkata  ...  in-flight meal not included   4966.50\n",
              "\n",
              "[5 rows x 13 columns]"
            ]
          },
          "metadata": {
            "tags": []
          },
          "execution_count": 40
        }
      ]
    },
    {
      "cell_type": "code",
      "metadata": {
        "id": "kTzcGOn4jLDE"
      },
      "source": [
        "cols= list(df.select_dtypes(exclude='number'))\n",
        "for i in range(len(cols)):\n",
        "  le = LabelEncoder()\n",
        "  df[cols[i]] = le.fit_transform(df[cols[i]])\n",
        "\n",
        "  # train_cat[cols[i]] = le.transform(train_cat[cols[i]])\n",
        "  # test_cat[cols[i]]  = le.transform(test_cat[cols[i]])"
      ],
      "execution_count": null,
      "outputs": []
    },
    {
      "cell_type": "code",
      "metadata": {
        "id": "1J4mnCUS0C-Z"
      },
      "source": [
        "mm = MinMaxScaler()\n",
        "\n",
        "df.distance = mm.fit_transform(df[['distance']])"
      ],
      "execution_count": null,
      "outputs": []
    },
    {
      "cell_type": "code",
      "metadata": {
        "id": "3S2gLUDCTbIh",
        "colab": {
          "base_uri": "https://localhost:8080/",
          "height": 226
        },
        "outputId": "7ad79930-126d-4365-a132-2e1d3c14e262"
      },
      "source": [
        "df.head()"
      ],
      "execution_count": null,
      "outputs": [
        {
          "output_type": "execute_result",
          "data": {
            "text/html": [
              "<div>\n",
              "<style scoped>\n",
              "    .dataframe tbody tr th:only-of-type {\n",
              "        vertical-align: middle;\n",
              "    }\n",
              "\n",
              "    .dataframe tbody tr th {\n",
              "        vertical-align: top;\n",
              "    }\n",
              "\n",
              "    .dataframe thead th {\n",
              "        text-align: right;\n",
              "    }\n",
              "</style>\n",
              "<table border=\"1\" class=\"dataframe\">\n",
              "  <thead>\n",
              "    <tr style=\"text-align: right;\">\n",
              "      <th></th>\n",
              "      <th>Airline</th>\n",
              "      <th>Source</th>\n",
              "      <th>Destination</th>\n",
              "      <th>Price</th>\n",
              "      <th>day</th>\n",
              "      <th>month</th>\n",
              "      <th>weekday</th>\n",
              "      <th>duration</th>\n",
              "      <th>dep_time</th>\n",
              "      <th>arrival_time</th>\n",
              "      <th>total_stops</th>\n",
              "      <th>additional_info</th>\n",
              "      <th>distance</th>\n",
              "    </tr>\n",
              "  </thead>\n",
              "  <tbody>\n",
              "    <tr>\n",
              "      <th>0</th>\n",
              "      <td>2</td>\n",
              "      <td>2</td>\n",
              "      <td>1</td>\n",
              "      <td>7480</td>\n",
              "      <td>12</td>\n",
              "      <td>6</td>\n",
              "      <td>2</td>\n",
              "      <td>765</td>\n",
              "      <td>1</td>\n",
              "      <td>2</td>\n",
              "      <td>1</td>\n",
              "      <td>1</td>\n",
              "      <td>0.247756</td>\n",
              "    </tr>\n",
              "    <tr>\n",
              "      <th>1</th>\n",
              "      <td>0</td>\n",
              "      <td>0</td>\n",
              "      <td>2</td>\n",
              "      <td>8016</td>\n",
              "      <td>18</td>\n",
              "      <td>6</td>\n",
              "      <td>1</td>\n",
              "      <td>185</td>\n",
              "      <td>1</td>\n",
              "      <td>3</td>\n",
              "      <td>0</td>\n",
              "      <td>1</td>\n",
              "      <td>0.039497</td>\n",
              "    </tr>\n",
              "    <tr>\n",
              "      <th>2</th>\n",
              "      <td>2</td>\n",
              "      <td>2</td>\n",
              "      <td>1</td>\n",
              "      <td>8879</td>\n",
              "      <td>18</td>\n",
              "      <td>5</td>\n",
              "      <td>5</td>\n",
              "      <td>925</td>\n",
              "      <td>3</td>\n",
              "      <td>1</td>\n",
              "      <td>1</td>\n",
              "      <td>1</td>\n",
              "      <td>0.305206</td>\n",
              "    </tr>\n",
              "    <tr>\n",
              "      <th>3</th>\n",
              "      <td>0</td>\n",
              "      <td>3</td>\n",
              "      <td>0</td>\n",
              "      <td>9663</td>\n",
              "      <td>6</td>\n",
              "      <td>5</td>\n",
              "      <td>0</td>\n",
              "      <td>735</td>\n",
              "      <td>1</td>\n",
              "      <td>2</td>\n",
              "      <td>1</td>\n",
              "      <td>0</td>\n",
              "      <td>0.236984</td>\n",
              "    </tr>\n",
              "    <tr>\n",
              "      <th>4</th>\n",
              "      <td>0</td>\n",
              "      <td>3</td>\n",
              "      <td>0</td>\n",
              "      <td>9663</td>\n",
              "      <td>9</td>\n",
              "      <td>5</td>\n",
              "      <td>3</td>\n",
              "      <td>330</td>\n",
              "      <td>2</td>\n",
              "      <td>0</td>\n",
              "      <td>1</td>\n",
              "      <td>0</td>\n",
              "      <td>0.091562</td>\n",
              "    </tr>\n",
              "  </tbody>\n",
              "</table>\n",
              "</div>"
            ],
            "text/plain": [
              "   Airline  Source  Destination  ...  total_stops  additional_info  distance\n",
              "0        2       2            1  ...            1                1  0.247756\n",
              "1        0       0            2  ...            0                1  0.039497\n",
              "2        2       2            1  ...            1                1  0.305206\n",
              "3        0       3            0  ...            1                0  0.236984\n",
              "4        0       3            0  ...            1                0  0.091562\n",
              "\n",
              "[5 rows x 13 columns]"
            ]
          },
          "metadata": {
            "tags": []
          },
          "execution_count": 108
        }
      ]
    },
    {
      "cell_type": "code",
      "metadata": {
        "id": "rgiDvtEcTZbx"
      },
      "source": [
        "df[\"duration\"]= (df[\"duration\"] - df[\"duration\"].mean())/df[\"duration\"].std()"
      ],
      "execution_count": null,
      "outputs": []
    },
    {
      "cell_type": "code",
      "metadata": {
        "id": "lIo__4bRjpYv",
        "colab": {
          "base_uri": "https://localhost:8080/",
          "height": 226
        },
        "outputId": "5e8dbf60-52f3-4148-df8e-313ee3eb5858"
      },
      "source": [
        "df.head()"
      ],
      "execution_count": null,
      "outputs": [
        {
          "output_type": "execute_result",
          "data": {
            "text/html": [
              "<div>\n",
              "<style scoped>\n",
              "    .dataframe tbody tr th:only-of-type {\n",
              "        vertical-align: middle;\n",
              "    }\n",
              "\n",
              "    .dataframe tbody tr th {\n",
              "        vertical-align: top;\n",
              "    }\n",
              "\n",
              "    .dataframe thead th {\n",
              "        text-align: right;\n",
              "    }\n",
              "</style>\n",
              "<table border=\"1\" class=\"dataframe\">\n",
              "  <thead>\n",
              "    <tr style=\"text-align: right;\">\n",
              "      <th></th>\n",
              "      <th>Airline</th>\n",
              "      <th>Source</th>\n",
              "      <th>Destination</th>\n",
              "      <th>Price</th>\n",
              "      <th>day</th>\n",
              "      <th>month</th>\n",
              "      <th>weekday</th>\n",
              "      <th>duration</th>\n",
              "      <th>dep_time</th>\n",
              "      <th>arrival_time</th>\n",
              "      <th>total_stops</th>\n",
              "      <th>additional_info</th>\n",
              "      <th>distance</th>\n",
              "    </tr>\n",
              "  </thead>\n",
              "  <tbody>\n",
              "    <tr>\n",
              "      <th>0</th>\n",
              "      <td>2</td>\n",
              "      <td>2</td>\n",
              "      <td>1</td>\n",
              "      <td>7480</td>\n",
              "      <td>12</td>\n",
              "      <td>6</td>\n",
              "      <td>2</td>\n",
              "      <td>0.267587</td>\n",
              "      <td>1</td>\n",
              "      <td>2</td>\n",
              "      <td>1</td>\n",
              "      <td>1</td>\n",
              "      <td>0.247756</td>\n",
              "    </tr>\n",
              "    <tr>\n",
              "      <th>1</th>\n",
              "      <td>0</td>\n",
              "      <td>0</td>\n",
              "      <td>2</td>\n",
              "      <td>8016</td>\n",
              "      <td>18</td>\n",
              "      <td>6</td>\n",
              "      <td>1</td>\n",
              "      <td>-0.886874</td>\n",
              "      <td>1</td>\n",
              "      <td>3</td>\n",
              "      <td>0</td>\n",
              "      <td>1</td>\n",
              "      <td>0.039497</td>\n",
              "    </tr>\n",
              "    <tr>\n",
              "      <th>2</th>\n",
              "      <td>2</td>\n",
              "      <td>2</td>\n",
              "      <td>1</td>\n",
              "      <td>8879</td>\n",
              "      <td>18</td>\n",
              "      <td>5</td>\n",
              "      <td>5</td>\n",
              "      <td>0.586059</td>\n",
              "      <td>3</td>\n",
              "      <td>1</td>\n",
              "      <td>1</td>\n",
              "      <td>1</td>\n",
              "      <td>0.305206</td>\n",
              "    </tr>\n",
              "    <tr>\n",
              "      <th>3</th>\n",
              "      <td>0</td>\n",
              "      <td>3</td>\n",
              "      <td>0</td>\n",
              "      <td>9663</td>\n",
              "      <td>6</td>\n",
              "      <td>5</td>\n",
              "      <td>0</td>\n",
              "      <td>0.207874</td>\n",
              "      <td>1</td>\n",
              "      <td>2</td>\n",
              "      <td>1</td>\n",
              "      <td>0</td>\n",
              "      <td>0.236984</td>\n",
              "    </tr>\n",
              "    <tr>\n",
              "      <th>4</th>\n",
              "      <td>0</td>\n",
              "      <td>3</td>\n",
              "      <td>0</td>\n",
              "      <td>9663</td>\n",
              "      <td>9</td>\n",
              "      <td>5</td>\n",
              "      <td>3</td>\n",
              "      <td>-0.598259</td>\n",
              "      <td>2</td>\n",
              "      <td>0</td>\n",
              "      <td>1</td>\n",
              "      <td>0</td>\n",
              "      <td>0.091562</td>\n",
              "    </tr>\n",
              "  </tbody>\n",
              "</table>\n",
              "</div>"
            ],
            "text/plain": [
              "   Airline  Source  Destination  ...  total_stops  additional_info  distance\n",
              "0        2       2            1  ...            1                1  0.247756\n",
              "1        0       0            2  ...            0                1  0.039497\n",
              "2        2       2            1  ...            1                1  0.305206\n",
              "3        0       3            0  ...            1                0  0.236984\n",
              "4        0       3            0  ...            1                0  0.091562\n",
              "\n",
              "[5 rows x 13 columns]"
            ]
          },
          "metadata": {
            "tags": []
          },
          "execution_count": 110
        }
      ]
    },
    {
      "cell_type": "code",
      "metadata": {
        "id": "Aa6_jRyzlDbb"
      },
      "source": [
        "# df\n",
        "# num = df.select_dtypes(include='number')\n",
        "# cat = df.select_dtypes(exclude='number')\n",
        "X= df.drop('Price',1)\n",
        "y=df.Price\n"
      ],
      "execution_count": null,
      "outputs": []
    },
    {
      "cell_type": "code",
      "metadata": {
        "id": "cfz_VhwkoHcM"
      },
      "source": [
        "X_train,X_test,y_train,y_test = train_test_split(X,y,test_size=0.20,stratify=df['Airline'],random_state= 42)"
      ],
      "execution_count": null,
      "outputs": []
    },
    {
      "cell_type": "code",
      "metadata": {
        "id": "5bLBXA6So2Ac"
      },
      "source": [
        "train_cat = X_train.select_dtypes(exclude= 'number')\n",
        "train_num = X_train.select_dtypes(include= 'number')\n",
        "\n",
        "test_cat = X_test.select_dtypes(exclude= 'number')\n",
        "test_num = X_test.select_dtypes(include= 'number')"
      ],
      "execution_count": null,
      "outputs": []
    },
    {
      "cell_type": "code",
      "metadata": {
        "id": "lygdhfPopO5a"
      },
      "source": [
        "train_cat.additional_info.value_counts()"
      ],
      "execution_count": null,
      "outputs": []
    },
    {
      "cell_type": "code",
      "metadata": {
        "id": "EixW0OEEsIOC",
        "colab": {
          "base_uri": "https://localhost:8080/"
        },
        "outputId": "b46c722e-0cc0-41fd-e07e-c927ea6810b1"
      },
      "source": [
        "test_cat.additional_info.value_counts()"
      ],
      "execution_count": null,
      "outputs": [
        {
          "output_type": "execute_result",
          "data": {
            "text/plain": [
              "no info                         1222\n",
              "in-flight meal not included      304\n",
              "no check-in baggage included      49\n",
              "1 long layover                     2\n",
              "red-eye flight                     1\n",
              "business class                     1\n",
              "Name: additional_info, dtype: int64"
            ]
          },
          "metadata": {
            "tags": []
          },
          "execution_count": 303
        }
      ]
    },
    {
      "cell_type": "markdown",
      "metadata": {
        "id": "rB2fruIa4u8u"
      },
      "source": [
        "###Label Encoding"
      ]
    },
    {
      "cell_type": "code",
      "metadata": {
        "id": "AuNtFlLFn4ks"
      },
      "source": [
        "cols= list(train_cat)\n",
        "for i in range(len(cols)):\n",
        "  le = LabelEncoder()\n",
        "  le.fit(df[cols[i]])\n",
        "  train_cat[cols[i]] = le.transform(train_cat[cols[i]])\n",
        "  test_cat[cols[i]]  = le.transform(test_cat[cols[i]])\n",
        "  # real_test_cat[cols[i]] = le.transform(real_test_cat[cols[i]])"
      ],
      "execution_count": null,
      "outputs": []
    },
    {
      "cell_type": "code",
      "metadata": {
        "id": "86tVA-ge3m3H"
      },
      "source": [
        "# def labelen(col,col2):\n",
        "\n",
        "#   le = LabelEncoder()\n",
        "\n",
        "#   col = le.fit_transform(col)\n",
        "#   col2 = le.transform(col2)\n",
        "#   testc = le.transform(testc)\n",
        "#   return col,col2\n"
      ],
      "execution_count": null,
      "outputs": []
    },
    {
      "cell_type": "code",
      "metadata": {
        "id": "-0D0gS5a36gz"
      },
      "source": [
        "# train_cat['Source'], test_cat['Source'], test['Source'] = labelen(train_cat['Source'],test_cat['Source'],test['Source'])\n",
        "# train_cat['Destination'], test_cat['Destination'],test['Destination'] = labelen(train_cat['Destination'],test_cat['Destination'],test['Destination'])\n",
        "# train_cat['dep_time'], test_cat['dep_time'],test['dep_time'] = labelen(train_cat['dep_time'],test_cat['dep_time'],test['dep_time'])\n",
        "# train_cat['arrival_time'], test_cat['arrival_time'],test['arrival_time'] = labelen(train_cat['arrival_time'],test_cat['arrival_time'],test['arrival_time'])\n",
        "# train_cat['additional_info'], test_cat['additional_info'],test['additional_info'] = labelen(train_cat['additional_info'],test_cat['additional_info'],test['additional_info'])"
      ],
      "execution_count": null,
      "outputs": []
    },
    {
      "cell_type": "code",
      "metadata": {
        "id": "S9QFI8Ydpz1Z",
        "colab": {
          "base_uri": "https://localhost:8080/",
          "height": 81
        },
        "outputId": "ad077b41-9078-4f72-e77d-9e36c1f6bfb0"
      },
      "source": [
        "train_cat.head(1)"
      ],
      "execution_count": null,
      "outputs": [
        {
          "output_type": "execute_result",
          "data": {
            "text/html": [
              "<div>\n",
              "<style scoped>\n",
              "    .dataframe tbody tr th:only-of-type {\n",
              "        vertical-align: middle;\n",
              "    }\n",
              "\n",
              "    .dataframe tbody tr th {\n",
              "        vertical-align: top;\n",
              "    }\n",
              "\n",
              "    .dataframe thead th {\n",
              "        text-align: right;\n",
              "    }\n",
              "</style>\n",
              "<table border=\"1\" class=\"dataframe\">\n",
              "  <thead>\n",
              "    <tr style=\"text-align: right;\">\n",
              "      <th></th>\n",
              "      <th>Airline</th>\n",
              "      <th>Source</th>\n",
              "      <th>Destination</th>\n",
              "      <th>dep_time</th>\n",
              "      <th>arrival_time</th>\n",
              "      <th>additional_info</th>\n",
              "    </tr>\n",
              "  </thead>\n",
              "  <tbody>\n",
              "    <tr>\n",
              "      <th>5169</th>\n",
              "      <td>0</td>\n",
              "      <td>0</td>\n",
              "      <td>2</td>\n",
              "      <td>2</td>\n",
              "      <td>2</td>\n",
              "      <td>5</td>\n",
              "    </tr>\n",
              "  </tbody>\n",
              "</table>\n",
              "</div>"
            ],
            "text/plain": [
              "      Airline  Source  Destination  dep_time  arrival_time  additional_info\n",
              "5169        0       0            2         2             2                5"
            ]
          },
          "metadata": {
            "tags": []
          },
          "execution_count": 195
        }
      ]
    },
    {
      "cell_type": "code",
      "metadata": {
        "id": "82qk_l_N7yrD"
      },
      "source": [
        "# train_num.drop('Unnamed: 0',1,inplace= True)"
      ],
      "execution_count": null,
      "outputs": []
    },
    {
      "cell_type": "code",
      "metadata": {
        "id": "s901W64G8KmA",
        "colab": {
          "base_uri": "https://localhost:8080/",
          "height": 81
        },
        "outputId": "fc515182-6191-46d1-b1cb-34e50448f6b8"
      },
      "source": [
        "train_num.head(1)"
      ],
      "execution_count": null,
      "outputs": [
        {
          "output_type": "execute_result",
          "data": {
            "text/html": [
              "<div>\n",
              "<style scoped>\n",
              "    .dataframe tbody tr th:only-of-type {\n",
              "        vertical-align: middle;\n",
              "    }\n",
              "\n",
              "    .dataframe tbody tr th {\n",
              "        vertical-align: top;\n",
              "    }\n",
              "\n",
              "    .dataframe thead th {\n",
              "        text-align: right;\n",
              "    }\n",
              "</style>\n",
              "<table border=\"1\" class=\"dataframe\">\n",
              "  <thead>\n",
              "    <tr style=\"text-align: right;\">\n",
              "      <th></th>\n",
              "      <th>day</th>\n",
              "      <th>month</th>\n",
              "      <th>weekday</th>\n",
              "      <th>duration</th>\n",
              "      <th>total_stops</th>\n",
              "      <th>distance</th>\n",
              "    </tr>\n",
              "  </thead>\n",
              "  <tbody>\n",
              "    <tr>\n",
              "      <th>5169</th>\n",
              "      <td>27</td>\n",
              "      <td>5</td>\n",
              "      <td>0</td>\n",
              "      <td>180</td>\n",
              "      <td>0</td>\n",
              "      <td>2709.0</td>\n",
              "    </tr>\n",
              "  </tbody>\n",
              "</table>\n",
              "</div>"
            ],
            "text/plain": [
              "      day  month  weekday  duration  total_stops  distance\n",
              "5169   27      5        0       180            0    2709.0"
            ]
          },
          "metadata": {
            "tags": []
          },
          "execution_count": 197
        }
      ]
    },
    {
      "cell_type": "markdown",
      "metadata": {
        "id": "FSyoQ4o45HHE"
      },
      "source": [
        "###min max"
      ]
    },
    {
      "cell_type": "code",
      "metadata": {
        "id": "x3umU9vmTVLf"
      },
      "source": [
        ""
      ],
      "execution_count": null,
      "outputs": []
    },
    {
      "cell_type": "code",
      "metadata": {
        "id": "Qxpjtnv4rxDP"
      },
      "source": [
        "mm = MinMaxScaler()\n",
        "\n",
        "train_num['distance'] = mm.fit_transform(train_num[['distance']])\n",
        "test_num['distance'] = mm.transform(test_num[['distance']])\n",
        "real_test_num['distance'] = mm.transform(real_test_num[['distance']])"
      ],
      "execution_count": null,
      "outputs": []
    },
    {
      "cell_type": "code",
      "metadata": {
        "id": "kO-gdo4L-1Go",
        "colab": {
          "base_uri": "https://localhost:8080/"
        },
        "outputId": "45c657b7-a6e7-4880-bb95-f92790b9d7bd"
      },
      "source": [
        "print(train_num.shape,train_cat.shape)\n",
        "print(test_num.shape, test_cat.shape)"
      ],
      "execution_count": null,
      "outputs": [
        {
          "output_type": "stream",
          "text": [
            "(6314, 7) (6314, 6)\n",
            "(1579, 7) (1579, 6)\n"
          ],
          "name": "stdout"
        }
      ]
    },
    {
      "cell_type": "code",
      "metadata": {
        "id": "du9xYYPd5i1p"
      },
      "source": [
        "traindata = pd.concat([train_cat,train_num],1)\n",
        "testdata = pd.concat([test_cat,test_num],1)"
      ],
      "execution_count": null,
      "outputs": []
    },
    {
      "cell_type": "code",
      "metadata": {
        "id": "8um1of1Z_NgO",
        "colab": {
          "base_uri": "https://localhost:8080/"
        },
        "outputId": "96e5e5c1-a4bd-4970-fc9e-6964530793d8"
      },
      "source": [
        "print(traindata.shape)\n",
        "print(y_train.shape)\n",
        "print(testdata.shape)\n",
        "print(y_test.shape)"
      ],
      "execution_count": null,
      "outputs": [
        {
          "output_type": "stream",
          "text": [
            "(6314, 12)\n",
            "(6314,)\n",
            "(1579, 12)\n",
            "(1579,)\n"
          ],
          "name": "stdout"
        }
      ]
    },
    {
      "cell_type": "code",
      "metadata": {
        "id": "Qtf-Cv1urq97",
        "colab": {
          "base_uri": "https://localhost:8080/",
          "height": 444
        },
        "outputId": "203d6880-fc4d-4dea-d769-5a9e63f2b117"
      },
      "source": [
        "traindata"
      ],
      "execution_count": null,
      "outputs": [
        {
          "output_type": "execute_result",
          "data": {
            "text/html": [
              "<div>\n",
              "<style scoped>\n",
              "    .dataframe tbody tr th:only-of-type {\n",
              "        vertical-align: middle;\n",
              "    }\n",
              "\n",
              "    .dataframe tbody tr th {\n",
              "        vertical-align: top;\n",
              "    }\n",
              "\n",
              "    .dataframe thead th {\n",
              "        text-align: right;\n",
              "    }\n",
              "</style>\n",
              "<table border=\"1\" class=\"dataframe\">\n",
              "  <thead>\n",
              "    <tr style=\"text-align: right;\">\n",
              "      <th></th>\n",
              "      <th>Airline</th>\n",
              "      <th>Source</th>\n",
              "      <th>Destination</th>\n",
              "      <th>dep_time</th>\n",
              "      <th>arrival_time</th>\n",
              "      <th>additional_info</th>\n",
              "      <th>day</th>\n",
              "      <th>month</th>\n",
              "      <th>weekday</th>\n",
              "      <th>duration</th>\n",
              "      <th>total_stops</th>\n",
              "      <th>pricesplit</th>\n",
              "      <th>distance</th>\n",
              "    </tr>\n",
              "  </thead>\n",
              "  <tbody>\n",
              "    <tr>\n",
              "      <th>4681</th>\n",
              "      <td>0</td>\n",
              "      <td>2</td>\n",
              "      <td>1</td>\n",
              "      <td>1</td>\n",
              "      <td>3</td>\n",
              "      <td>5</td>\n",
              "      <td>24</td>\n",
              "      <td>6</td>\n",
              "      <td>0</td>\n",
              "      <td>505</td>\n",
              "      <td>2</td>\n",
              "      <td>1</td>\n",
              "      <td>0.175131</td>\n",
              "    </tr>\n",
              "    <tr>\n",
              "      <th>4053</th>\n",
              "      <td>6</td>\n",
              "      <td>2</td>\n",
              "      <td>1</td>\n",
              "      <td>1</td>\n",
              "      <td>2</td>\n",
              "      <td>7</td>\n",
              "      <td>1</td>\n",
              "      <td>6</td>\n",
              "      <td>5</td>\n",
              "      <td>865</td>\n",
              "      <td>1</td>\n",
              "      <td>1</td>\n",
              "      <td>0.301226</td>\n",
              "    </tr>\n",
              "    <tr>\n",
              "      <th>3079</th>\n",
              "      <td>0</td>\n",
              "      <td>2</td>\n",
              "      <td>1</td>\n",
              "      <td>0</td>\n",
              "      <td>1</td>\n",
              "      <td>5</td>\n",
              "      <td>27</td>\n",
              "      <td>5</td>\n",
              "      <td>0</td>\n",
              "      <td>450</td>\n",
              "      <td>1</td>\n",
              "      <td>1</td>\n",
              "      <td>0.155867</td>\n",
              "    </tr>\n",
              "    <tr>\n",
              "      <th>6286</th>\n",
              "      <td>2</td>\n",
              "      <td>3</td>\n",
              "      <td>0</td>\n",
              "      <td>2</td>\n",
              "      <td>3</td>\n",
              "      <td>7</td>\n",
              "      <td>15</td>\n",
              "      <td>5</td>\n",
              "      <td>2</td>\n",
              "      <td>805</td>\n",
              "      <td>2</td>\n",
              "      <td>1</td>\n",
              "      <td>0.280210</td>\n",
              "    </tr>\n",
              "    <tr>\n",
              "      <th>7787</th>\n",
              "      <td>0</td>\n",
              "      <td>3</td>\n",
              "      <td>0</td>\n",
              "      <td>1</td>\n",
              "      <td>3</td>\n",
              "      <td>5</td>\n",
              "      <td>24</td>\n",
              "      <td>3</td>\n",
              "      <td>6</td>\n",
              "      <td>1660</td>\n",
              "      <td>1</td>\n",
              "      <td>1</td>\n",
              "      <td>0.579685</td>\n",
              "    </tr>\n",
              "    <tr>\n",
              "      <th>...</th>\n",
              "      <td>...</td>\n",
              "      <td>...</td>\n",
              "      <td>...</td>\n",
              "      <td>...</td>\n",
              "      <td>...</td>\n",
              "      <td>...</td>\n",
              "      <td>...</td>\n",
              "      <td>...</td>\n",
              "      <td>...</td>\n",
              "      <td>...</td>\n",
              "      <td>...</td>\n",
              "      <td>...</td>\n",
              "      <td>...</td>\n",
              "    </tr>\n",
              "    <tr>\n",
              "      <th>4786</th>\n",
              "      <td>0</td>\n",
              "      <td>0</td>\n",
              "      <td>2</td>\n",
              "      <td>1</td>\n",
              "      <td>2</td>\n",
              "      <td>7</td>\n",
              "      <td>6</td>\n",
              "      <td>3</td>\n",
              "      <td>2</td>\n",
              "      <td>965</td>\n",
              "      <td>1</td>\n",
              "      <td>1</td>\n",
              "      <td>0.336252</td>\n",
              "    </tr>\n",
              "    <tr>\n",
              "      <th>4171</th>\n",
              "      <td>7</td>\n",
              "      <td>0</td>\n",
              "      <td>2</td>\n",
              "      <td>1</td>\n",
              "      <td>3</td>\n",
              "      <td>7</td>\n",
              "      <td>12</td>\n",
              "      <td>4</td>\n",
              "      <td>4</td>\n",
              "      <td>165</td>\n",
              "      <td>0</td>\n",
              "      <td>0</td>\n",
              "      <td>0.056042</td>\n",
              "    </tr>\n",
              "    <tr>\n",
              "      <th>6997</th>\n",
              "      <td>0</td>\n",
              "      <td>4</td>\n",
              "      <td>3</td>\n",
              "      <td>2</td>\n",
              "      <td>1</td>\n",
              "      <td>7</td>\n",
              "      <td>12</td>\n",
              "      <td>3</td>\n",
              "      <td>1</td>\n",
              "      <td>405</td>\n",
              "      <td>1</td>\n",
              "      <td>1</td>\n",
              "      <td>0.140105</td>\n",
              "    </tr>\n",
              "    <tr>\n",
              "      <th>3193</th>\n",
              "      <td>5</td>\n",
              "      <td>3</td>\n",
              "      <td>0</td>\n",
              "      <td>1</td>\n",
              "      <td>1</td>\n",
              "      <td>7</td>\n",
              "      <td>1</td>\n",
              "      <td>5</td>\n",
              "      <td>2</td>\n",
              "      <td>1440</td>\n",
              "      <td>1</td>\n",
              "      <td>0</td>\n",
              "      <td>0.502627</td>\n",
              "    </tr>\n",
              "    <tr>\n",
              "      <th>7161</th>\n",
              "      <td>1</td>\n",
              "      <td>3</td>\n",
              "      <td>0</td>\n",
              "      <td>2</td>\n",
              "      <td>0</td>\n",
              "      <td>7</td>\n",
              "      <td>3</td>\n",
              "      <td>3</td>\n",
              "      <td>6</td>\n",
              "      <td>165</td>\n",
              "      <td>0</td>\n",
              "      <td>0</td>\n",
              "      <td>0.056042</td>\n",
              "    </tr>\n",
              "  </tbody>\n",
              "</table>\n",
              "<p>6314 rows × 13 columns</p>\n",
              "</div>"
            ],
            "text/plain": [
              "      Airline  Source  Destination  ...  total_stops  pricesplit  distance\n",
              "4681        0       2            1  ...            2           1  0.175131\n",
              "4053        6       2            1  ...            1           1  0.301226\n",
              "3079        0       2            1  ...            1           1  0.155867\n",
              "6286        2       3            0  ...            2           1  0.280210\n",
              "7787        0       3            0  ...            1           1  0.579685\n",
              "...       ...     ...          ...  ...          ...         ...       ...\n",
              "4786        0       0            2  ...            1           1  0.336252\n",
              "4171        7       0            2  ...            0           0  0.056042\n",
              "6997        0       4            3  ...            1           1  0.140105\n",
              "3193        5       3            0  ...            1           0  0.502627\n",
              "7161        1       3            0  ...            0           0  0.056042\n",
              "\n",
              "[6314 rows x 13 columns]"
            ]
          },
          "metadata": {
            "tags": []
          },
          "execution_count": 250
        }
      ]
    },
    {
      "cell_type": "code",
      "metadata": {
        "id": "-jA9RQJu_poy",
        "colab": {
          "base_uri": "https://localhost:8080/"
        },
        "outputId": "2c435d9b-b4b1-4b25-f00e-04f4c1b9a6ea"
      },
      "source": [
        "%%time\n",
        "\n",
        "rf = RandomForestRegressor(n_estimators=1100,max_depth=50)\n",
        "rf.fit(X_train, y_train)\n",
        "preditction_rf = rf.predict(X_test)\n",
        "print('r2score ',r2_score(y_pred=preditction_rf,y_true= y_test))\n",
        "print('mse ',sqrt(mse(y_test,preditction_rf)))"
      ],
      "execution_count": null,
      "outputs": [
        {
          "output_type": "stream",
          "text": [
            "r2score  0.8906523239287676\n",
            "mse  1332.873027802262\n",
            "CPU times: user 18.3 s, sys: 98.5 ms, total: 18.4 s\n",
            "Wall time: 18.5 s\n"
          ],
          "name": "stdout"
        }
      ]
    },
    {
      "cell_type": "code",
      "metadata": {
        "id": "zPpn2ihVFnTt",
        "colab": {
          "base_uri": "https://localhost:8080/"
        },
        "outputId": "c3dfd6df-fc61-40f1-e024-8740f374db55"
      },
      "source": [
        "-np.sqrt(np.square(np.log10(preditction_rf +1) - np.log10(y_test +1)).mean())"
      ],
      "execution_count": null,
      "outputs": [
        {
          "output_type": "execute_result",
          "data": {
            "text/plain": [
              "-0.06160022557784544"
            ]
          },
          "metadata": {
            "tags": []
          },
          "execution_count": 135
        }
      ]
    },
    {
      "cell_type": "code",
      "metadata": {
        "id": "6DylzAF_RU3c",
        "colab": {
          "base_uri": "https://localhost:8080/",
          "height": 283
        },
        "outputId": "e41828de-e571-446a-ba26-39741a9d6a64"
      },
      "source": [
        "pd.DataFrame(data = {'imp':rf.feature_importances_,'col':list(X_train)}).sort_values(by='imp')\n",
        "plt.barh(list(X_train),rf.feature_importances_)"
      ],
      "execution_count": null,
      "outputs": [
        {
          "output_type": "execute_result",
          "data": {
            "text/plain": [
              "<BarContainer object of 12 artists>"
            ]
          },
          "metadata": {
            "tags": []
          },
          "execution_count": 132
        },
        {
          "output_type": "display_data",
          "data": {
            "image/png": "[encoded data removed]",
            "text/plain": [
              "<Figure size 432x288 with 1 Axes>"
            ]
          },
          "metadata": {
            "tags": [],
            "needs_background": "light"
          }
        }
      ]
    },
    {
      "cell_type": "code",
      "metadata": {
        "id": "ritYYxPnLVFC",
        "colab": {
          "base_uri": "https://localhost:8080/",
          "height": 283
        },
        "outputId": "cca7cb46-e0a4-48da-e4b4-8809b2e4dc20"
      },
      "source": [
        "plt.barh(list(X),random_regressor.best_estimator_.feature_importances_)\n"
      ],
      "execution_count": null,
      "outputs": [
        {
          "output_type": "execute_result",
          "data": {
            "text/plain": [
              "<BarContainer object of 12 artists>"
            ]
          },
          "metadata": {
            "tags": []
          },
          "execution_count": 84
        },
        {
          "output_type": "display_data",
          "data": {
            "image/png": "[encoded data removed]",
            "text/plain": [
              "<Figure size 432x288 with 1 Axes>"
            ]
          },
          "metadata": {
            "tags": [],
            "needs_background": "light"
          }
        }
      ]
    },
    {
      "cell_type": "code",
      "metadata": {
        "id": "HHQEYP3sLVA4"
      },
      "source": [
        "from sklearn.model_selection import GridSearchCV\n",
        "from sklearn.model_selection import RandomizedSearchCV\n",
        "\n",
        "from sklearn.neighbors import KNeighborsRegressor\n",
        "from sklearn.linear_model import Ridge\n",
        "from sklearn.linear_model import Lasso\n",
        "from sklearn.tree import DecisionTreeRegressor\n",
        "from sklearn.ensemble import RandomForestRegressor\n",
        "from xgboost import XGBRegressor"
      ],
      "execution_count": null,
      "outputs": []
    },
    {
      "cell_type": "markdown",
      "metadata": {
        "id": "b0vavmCf7lJi"
      },
      "source": [
        "Random forest"
      ]
    },
    {
      "cell_type": "code",
      "metadata": {
        "id": "XziaErQE4Hda",
        "colab": {
          "base_uri": "https://localhost:8080/"
        },
        "outputId": "e2c36096-9a79-46b0-c4c5-c3ea0d6fc63a"
      },
      "source": [
        "%%time\n",
        "tuned_params = {'n_estimators': [500,1000], 'min_samples_split': [2, 5, 10], 'min_samples_leaf': [1, 2, 4],'max_depth': [5,10,50,100]}\n",
        "random_regressor = RandomizedSearchCV(RandomForestRegressor(), tuned_params, n_iter = 20, cv = 5, n_jobs = -1,scoring='neg_mean_squared_error')\n",
        "random_regressor.fit(X_train, y_train)\n"
      ],
      "execution_count": null,
      "outputs": [
        {
          "output_type": "stream",
          "text": [
            "CPU times: user 16.5 s, sys: 282 ms, total: 16.8 s\n",
            "Wall time: 11min\n"
          ],
          "name": "stdout"
        }
      ]
    },
    {
      "cell_type": "code",
      "metadata": {
        "id": "umEAOlwS_vmB"
      },
      "source": [
        "new_model = random_regressor.best_estimator_"
      ],
      "execution_count": null,
      "outputs": []
    },
    {
      "cell_type": "code",
      "metadata": {
        "id": "b_x6DFLTFrgK",
        "colab": {
          "base_uri": "https://localhost:8080/"
        },
        "outputId": "8f63fa1c-e37f-4f28-c3e4-872746327718"
      },
      "source": [
        "random_regressor.best_params_"
      ],
      "execution_count": null,
      "outputs": [
        {
          "output_type": "execute_result",
          "data": {
            "text/plain": [
              "{'max_depth': 50,\n",
              " 'min_samples_leaf': 1,\n",
              " 'min_samples_split': 5,\n",
              " 'n_estimators': 1000}"
            ]
          },
          "metadata": {
            "tags": []
          },
          "execution_count": 138
        }
      ]
    },
    {
      "cell_type": "code",
      "metadata": {
        "id": "EcXkHFMb5tvQ"
      },
      "source": [
        "random_regressor.best_estimator_.feature_importances_"
      ],
      "execution_count": null,
      "outputs": []
    },
    {
      "cell_type": "code",
      "metadata": {
        "id": "QkiBYypV_hpw",
        "colab": {
          "base_uri": "https://localhost:8080/"
        },
        "outputId": "ccc7e6e4-0d97-43a8-f85a-e92d47b13325"
      },
      "source": [
        "\n",
        "# y_train_pred = new_model.predict(traindata)\n",
        "y_test_pred = new_model.predict(X_test)\n",
        "\n",
        "print(\"Test Results for Random Forest Regressor model:\")\n",
        "print(50 * '-')\n",
        "print(\"Root mean squared error: \", sqrt(mse(y_pred=y_test_pred,y_true= y_test)))\n",
        "# print(\"Mean absolute % error: \", round(mean_absolute_percentage_error(y_test, y_test_pred)))\n",
        "print(\"R-squared: \", r2_score(y_pred=y_test_pred, y_true=y_test))"
      ],
      "execution_count": null,
      "outputs": [
        {
          "output_type": "stream",
          "text": [
            "Test Results for Random Forest Regressor model:\n",
            "--------------------------------------------------\n",
            "Root mean squared error:  1294.508852973959\n",
            "R-squared:  0.8968564563714297\n"
          ],
          "name": "stdout"
        }
      ]
    },
    {
      "cell_type": "code",
      "metadata": {
        "id": "TFWxpAtfGPIB",
        "colab": {
          "base_uri": "https://localhost:8080/"
        },
        "outputId": "13466cf0-3a6a-4ae9-cdd0-3a812c0461a3"
      },
      "source": [
        "-np.sqrt(np.square(np.log10(y_test_pred +1) - np.log10(y_test +1)).mean())\n"
      ],
      "execution_count": null,
      "outputs": [
        {
          "output_type": "execute_result",
          "data": {
            "text/plain": [
              "-0.06015629112823139"
            ]
          },
          "metadata": {
            "tags": []
          },
          "execution_count": 140
        }
      ]
    },
    {
      "cell_type": "markdown",
      "metadata": {
        "id": "-n8kMZD87n6n"
      },
      "source": [
        "XGB regressor\n"
      ]
    },
    {
      "cell_type": "code",
      "metadata": {
        "id": "xWSoaImxJ2Fu",
        "colab": {
          "base_uri": "https://localhost:8080/"
        },
        "outputId": "58c95f5c-5602-4e89-9353-ed0ae5629ba0"
      },
      "source": [
        "%%time\n",
        "tuned_params = {'max_depth': [1,5,8,10,50,100,150], 'learning_rate': [0.01, 0.1], 'n_estimators': [500,1000,1100,1200]}\n",
        "model = RandomizedSearchCV(XGBRegressor(), tuned_params, n_iter=20, scoring = 'neg_mean_absolute_error', cv=5, n_jobs=-1)\n",
        "model.fit(X_train, y_train)"
      ],
      "execution_count": null,
      "outputs": [
        {
          "output_type": "stream",
          "text": [
            "[13:11:03] WARNING: /workspace/src/objective/regression_obj.cu:152: reg:linear is now deprecated in favor of reg:squarederror.\n",
            "CPU times: user 13.8 s, sys: 171 ms, total: 13.9 s\n",
            "Wall time: 21min 23s\n"
          ],
          "name": "stdout"
        }
      ]
    },
    {
      "cell_type": "code",
      "metadata": {
        "id": "wZsFwF6wIex6",
        "colab": {
          "base_uri": "https://localhost:8080/"
        },
        "outputId": "5adc81d9-dad6-44cb-ac9d-a971f0575268"
      },
      "source": [
        "model.best_params_"
      ],
      "execution_count": null,
      "outputs": [
        {
          "output_type": "execute_result",
          "data": {
            "text/plain": [
              "{'learning_rate': 0.01, 'max_depth': 10, 'n_estimators': 1100}"
            ]
          },
          "metadata": {
            "tags": []
          },
          "execution_count": 142
        }
      ]
    },
    {
      "cell_type": "code",
      "metadata": {
        "id": "dkmNL0oQLqQ1",
        "colab": {
          "base_uri": "https://localhost:8080/"
        },
        "outputId": "3a4625a1-1d36-4787-b5ac-4f3321cdbd48"
      },
      "source": [
        "y_train_pred = model.predict(X_train)\n",
        "y_test_pred = model.predict(X_test)\n",
        "\n",
        "print(\"Test Results for XGBoost Regressor Model:\")\n",
        "print(50 * '-')\n",
        "print(\"Root mean squared error: \", sqrt(mse(y_true=y_test, y_pred=y_test_pred)))\n",
        "# print(\"Mean absolute % error: \", round(mean_absolute_percentage_error(y_test, y_test_pred)))\n",
        "print(\"R-squared: \", r2_score(y_true=y_test,y_pred= y_test_pred))\n"
      ],
      "execution_count": null,
      "outputs": [
        {
          "output_type": "stream",
          "text": [
            "Test Results for XGBoost Regressor Model:\n",
            "--------------------------------------------------\n",
            "Root mean squared error:  1198.2213463255023\n",
            "R-squared:  0.9116297460739681\n"
          ],
          "name": "stdout"
        }
      ]
    },
    {
      "cell_type": "code",
      "metadata": {
        "id": "2Nif4Z0cL0YI",
        "colab": {
          "base_uri": "https://localhost:8080/"
        },
        "outputId": "b6516cea-bfed-4128-d402-cd471df1e09b"
      },
      "source": [
        "-np.sqrt(np.square(np.log10(y_test_pred +1) - np.log10(y_test +1)).mean())\n"
      ],
      "execution_count": null,
      "outputs": [
        {
          "output_type": "execute_result",
          "data": {
            "text/plain": [
              "-0.056014717021475494"
            ]
          },
          "metadata": {
            "tags": []
          },
          "execution_count": 144
        }
      ]
    },
    {
      "cell_type": "code",
      "metadata": {
        "id": "_LzvLzfQRSYK",
        "colab": {
          "base_uri": "https://localhost:8080/"
        },
        "outputId": "5a71613d-8a65-454e-a051-cbe93ef81823"
      },
      "source": [
        "params ={'alpha' :[0.0001, 0.001, 0.01, 0.1, 1, 10, 100, 1000, 10000, 100000]}\n",
        "lasso_regressor =GridSearchCV(Lasso(), params ,cv =15,scoring = 'neg_mean_squared_error', n_jobs =-1)\n",
        "lasso_regressor.fit(X_train ,y_train)\n",
        "\n",
        "\n",
        "y_train_pred =lasso_regressor.predict(traindata) ##Predict train result\n",
        "y_test_pred =lasso_regressor.predict(testdata) ##Predict test result\n",
        "\n",
        "\n",
        "print(\"Test Results for Lasso Regressor Model:\")\n",
        "print(50 * '-')\n",
        "print(\"Root mean squared error: \", sqrt(mse(y_true= y_test, y_pred= y_test_pred)))\n",
        "# print(\"Mean absolute % error: \", round(mean_absolute_percentage_error(y_test, y_test_pred)))\n",
        "print(\"R-squared: \", r2_score(y_true = y_test,y_pred = y_test_pred))\n",
        "\n"
      ],
      "execution_count": null,
      "outputs": [
        {
          "output_type": "stream",
          "text": [
            "Test Results for Lasso Regressor Model:\n",
            "--------------------------------------------------\n",
            "Root mean squared error:  3239.806707392765\n",
            "R-squared:  0.4744580233786089\n"
          ],
          "name": "stdout"
        }
      ]
    },
    {
      "cell_type": "code",
      "metadata": {
        "id": "AZjIVbFKwYd2",
        "colab": {
          "base_uri": "https://localhost:8080/"
        },
        "outputId": "c1661896-198c-4f3f-9f9c-dd7360827246"
      },
      "source": [
        "-np.sqrt(np.square(np.log10(y_test_pred +1) - np.log10(y_test +1)).mean())\n"
      ],
      "execution_count": null,
      "outputs": [
        {
          "output_type": "execute_result",
          "data": {
            "text/plain": [
              "-0.14503715227614475"
            ]
          },
          "metadata": {
            "tags": []
          },
          "execution_count": 470
        }
      ]
    },
    {
      "cell_type": "markdown",
      "metadata": {
        "id": "XNK9AODPWN6a"
      },
      "source": [
        "#TEST FILE PROCESSING"
      ]
    },
    {
      "cell_type": "code",
      "metadata": {
        "id": "hSidc1olWPir"
      },
      "source": [
        "test = pd.read_csv('test.csv')"
      ],
      "execution_count": null,
      "outputs": []
    },
    {
      "cell_type": "code",
      "metadata": {
        "id": "3Xrmpkmw6ZOC",
        "colab": {
          "base_uri": "https://localhost:8080/"
        },
        "outputId": "c0221bf9-405b-4ae2-ac9d-489c6eac35b5"
      },
      "source": [
        "test.shape"
      ],
      "execution_count": null,
      "outputs": [
        {
          "output_type": "execute_result",
          "data": {
            "text/plain": [
              "(2671, 10)"
            ]
          },
          "metadata": {
            "tags": []
          },
          "execution_count": 66
        }
      ]
    },
    {
      "cell_type": "code",
      "metadata": {
        "id": "PGSKM5yuWbg0",
        "colab": {
          "base_uri": "https://localhost:8080/",
          "height": 206
        },
        "outputId": "426cc480-95b0-4b37-8d2d-fe21d4be804f"
      },
      "source": [
        "test.head().drop('Route',1)"
      ],
      "execution_count": null,
      "outputs": [
        {
          "output_type": "execute_result",
          "data": {
            "text/html": [
              "<div>\n",
              "<style scoped>\n",
              "    .dataframe tbody tr th:only-of-type {\n",
              "        vertical-align: middle;\n",
              "    }\n",
              "\n",
              "    .dataframe tbody tr th {\n",
              "        vertical-align: top;\n",
              "    }\n",
              "\n",
              "    .dataframe thead th {\n",
              "        text-align: right;\n",
              "    }\n",
              "</style>\n",
              "<table border=\"1\" class=\"dataframe\">\n",
              "  <thead>\n",
              "    <tr style=\"text-align: right;\">\n",
              "      <th></th>\n",
              "      <th>Airline</th>\n",
              "      <th>Date_of_Journey</th>\n",
              "      <th>Source</th>\n",
              "      <th>Destination</th>\n",
              "      <th>Dep_Time</th>\n",
              "      <th>Arrival_Time</th>\n",
              "      <th>Duration</th>\n",
              "      <th>Total_Stops</th>\n",
              "      <th>Additional_Info</th>\n",
              "    </tr>\n",
              "  </thead>\n",
              "  <tbody>\n",
              "    <tr>\n",
              "      <th>0</th>\n",
              "      <td>Airline B</td>\n",
              "      <td>27-03-2019</td>\n",
              "      <td>Delhi</td>\n",
              "      <td>Cochin</td>\n",
              "      <td>04:55</td>\n",
              "      <td>16:10</td>\n",
              "      <td>11h 15m</td>\n",
              "      <td>1 stop</td>\n",
              "      <td>No info</td>\n",
              "    </tr>\n",
              "    <tr>\n",
              "      <th>1</th>\n",
              "      <td>Airline E</td>\n",
              "      <td>27-05-2019</td>\n",
              "      <td>Kolkata</td>\n",
              "      <td>Banglore</td>\n",
              "      <td>22:20</td>\n",
              "      <td>28-05-2020 00:40</td>\n",
              "      <td>2h 20m</td>\n",
              "      <td>non-stop</td>\n",
              "      <td>No info</td>\n",
              "    </tr>\n",
              "    <tr>\n",
              "      <th>2</th>\n",
              "      <td>Airline C</td>\n",
              "      <td>06-06-2019</td>\n",
              "      <td>Kolkata</td>\n",
              "      <td>Banglore</td>\n",
              "      <td>05:50</td>\n",
              "      <td>20:25</td>\n",
              "      <td>14h 35m</td>\n",
              "      <td>2 stops</td>\n",
              "      <td>No info</td>\n",
              "    </tr>\n",
              "    <tr>\n",
              "      <th>3</th>\n",
              "      <td>Airline A</td>\n",
              "      <td>06-03-2019</td>\n",
              "      <td>Banglore</td>\n",
              "      <td>New Delhi</td>\n",
              "      <td>09:45</td>\n",
              "      <td>14:25</td>\n",
              "      <td>4h 40m</td>\n",
              "      <td>1 stop</td>\n",
              "      <td>No info</td>\n",
              "    </tr>\n",
              "    <tr>\n",
              "      <th>4</th>\n",
              "      <td>Airline B</td>\n",
              "      <td>15-06-2019</td>\n",
              "      <td>Delhi</td>\n",
              "      <td>Cochin</td>\n",
              "      <td>16:00</td>\n",
              "      <td>16-06-2020 01:30</td>\n",
              "      <td>9h 30m</td>\n",
              "      <td>1 stop</td>\n",
              "      <td>No info</td>\n",
              "    </tr>\n",
              "  </tbody>\n",
              "</table>\n",
              "</div>"
            ],
            "text/plain": [
              "     Airline Date_of_Journey    Source  ... Duration Total_Stops Additional_Info\n",
              "0  Airline B      27-03-2019     Delhi  ...  11h 15m      1 stop         No info\n",
              "1  Airline E      27-05-2019   Kolkata  ...   2h 20m    non-stop         No info\n",
              "2  Airline C      06-06-2019   Kolkata  ...  14h 35m     2 stops         No info\n",
              "3  Airline A      06-03-2019  Banglore  ...   4h 40m      1 stop         No info\n",
              "4  Airline B      15-06-2019     Delhi  ...   9h 30m      1 stop         No info\n",
              "\n",
              "[5 rows x 9 columns]"
            ]
          },
          "metadata": {
            "tags": []
          },
          "execution_count": 67
        }
      ]
    },
    {
      "cell_type": "code",
      "metadata": {
        "id": "4584rqRxXgd-"
      },
      "source": [
        "# print('count before ',len(test))\n",
        "# print(test.isnull().sum())\n",
        "# test.dropna(inplace=True)\n",
        "# print('count after ',len(test))\n",
        "# #dropping null values"
      ],
      "execution_count": null,
      "outputs": []
    },
    {
      "cell_type": "code",
      "metadata": {
        "id": "hdGM9n2NXgeU"
      },
      "source": [
        "# print('count beofre ',len(df))\n",
        "# df.drop_duplicates(keep='first').shape\n",
        "# print('count after ',len(df))\n",
        "#dropping duplicate flights\n",
        "# df.shape"
      ],
      "execution_count": null,
      "outputs": []
    },
    {
      "cell_type": "code",
      "metadata": {
        "id": "Dq7erJVsXgfU"
      },
      "source": [
        "#DATE OF JOURNEY\n",
        "for i in range(0,len(test[\"Additional_Info\"])):\n",
        "    if test[\"Additional_Info\"].iloc[i]== 'No check-in baggage included':\n",
        "         test[\"Additional_Info\"].iloc[i]=\"Others\"\n",
        "    elif test[\"Additional_Info\"].iloc[i]=='1 Long layover':\n",
        "         test[\"Additional_Info\"].iloc[i]=\"Others\"\n",
        "    elif test[\"Additional_Info\"].iloc[i]== 'Change airports':\n",
        "         test[\"Additional_Info\"].iloc[i]=\"Others\"\n",
        "    elif test[\"Additional_Info\"].iloc[i]=='Red-eye flight':\n",
        "         test[\"Additional_Info\"].iloc[i]=\"Others\"\n",
        "\n",
        "for i in range(0,len(df[\"Airline\"])):\n",
        "    if df[\"Airline\"].iloc[i]==\"Airline K\":\n",
        "         df[\"Airline\"].iloc[i]=\"Others\"\n",
        "    elif df[\"Airline\"].iloc[i]==\"Airline L\":\n",
        "         df[\"Airline\"].iloc[i]=\"Others\"\n",
        "    elif df[\"Airline\"].iloc[i]==\"Airline I\":\n",
        "         df[\"Airline\"].iloc[i]=\"Others\"\n",
        "\n",
        "\n",
        "test['day'] = pd.to_datetime(test.Date_of_Journey, format='%d-%m-%Y').dt.day\n",
        "test['month'] = pd.to_datetime(test.Date_of_Journey, format='%d-%m-%Y').dt.month\n",
        "test['weekday']= pd.to_datetime(test.Date_of_Journey, format='%d-%m-%Y').dt.weekday\n",
        "test.drop('Date_of_Journey',1,inplace=True)\n",
        "\n",
        "\n",
        "#DURATION\n",
        "\n",
        "def duration(test1):\n",
        "    test1 = test1.strip()\n",
        "    total=test1.split(' ')\n",
        "    to=total[0]\n",
        "    hrs=(int)(to[:-1])*60\n",
        "    if((len(total))==2):\n",
        "        mint=(int)(total[1][:-1])\n",
        "        hrs=hrs+mint\n",
        "    test1=str(hrs)\n",
        "    return hrs\n",
        "\n",
        "test['duration']=test['Duration'].apply(duration)\n",
        "test.drop('Duration',1,inplace=True)\n",
        "\n",
        "\n",
        "\n",
        "#TOTAL STOPS\n",
        "\n",
        "\n",
        "\n",
        "#ROUTE\n",
        "test.drop('Route',1,inplace=True)"
      ],
      "execution_count": null,
      "outputs": []
    },
    {
      "cell_type": "code",
      "metadata": {
        "id": "vC8A2QSjklOs"
      },
      "source": [
        "test['new_Arrival_Time'] = pd.to_datetime(test.Arrival_Time).dt.time"
      ],
      "execution_count": null,
      "outputs": []
    },
    {
      "cell_type": "code",
      "metadata": {
        "id": "9VAxtYCQXge5"
      },
      "source": [
        "def deparrtime(x):\n",
        "    x=str(x)\n",
        "    x=x.strip()\n",
        "    tt=(int)(x.split(':')[0])\n",
        "    if(tt>=16 and tt<21):\n",
        "        x='Evening'\n",
        "    elif(tt>=21 or tt<5):\n",
        "        x='Night'\n",
        "    elif(tt>=5 and tt<11):\n",
        "        x='Morning'\n",
        "    elif(tt>=11 and tt<16):\n",
        "        x='Afternoon'\n",
        "    return x\n",
        "# test['dep_time']=test['Dep_Time'].apply(deparrtime)\n",
        "test['arrival_time']=test['new_Arrival_Time'].apply(deparrtime)"
      ],
      "execution_count": null,
      "outputs": []
    },
    {
      "cell_type": "code",
      "metadata": {
        "id": "fRAyJL__XgfL"
      },
      "source": [
        "test.drop(['Dep_Time','Arrival_Time','new_Arrival_Time'],1,inplace=True)"
      ],
      "execution_count": null,
      "outputs": []
    },
    {
      "cell_type": "code",
      "metadata": {
        "id": "d0IYP4Gvwvc-"
      },
      "source": [
        "test['total_stops'] = test['Total_Stops']\\\n",
        "                    .replace(['1 stop', 'non-stop', '2 stops', '3 stops', '4 stops'], [1, 0, 2, 3, 4])\n",
        "test.drop('Total_Stops',1,inplace=True)\n",
        "\n",
        "\n",
        "#ADDITIONAL INFO\n",
        "\n",
        "         \n",
        "test['additional_info'] = test['Additional_Info'].apply(lambda row: str(row))\n",
        "test['additional_info'] = [x.lower() for x in list(test['additional_info'])]\n",
        "test.drop('Additional_Info',1,inplace=True)"
      ],
      "execution_count": null,
      "outputs": []
    },
    {
      "cell_type": "code",
      "metadata": {
        "id": "xK7IBlWynHFT",
        "colab": {
          "base_uri": "https://localhost:8080/"
        },
        "outputId": "483600cb-4f00-400a-ad9d-d4e3018a50c8"
      },
      "source": [
        "test.Destination.replace({'New Delhi':'Delhi'}, inplace=True)\n",
        "print(test.Destination.value_counts())"
      ],
      "execution_count": null,
      "outputs": [
        {
          "output_type": "stream",
          "text": [
            "Cochin       1139\n",
            "Banglore      719\n",
            "Delhi         547\n",
            "Hyderabad     174\n",
            "Kolkata        92\n",
            "Name: Destination, dtype: int64\n"
          ],
          "name": "stdout"
        }
      ]
    },
    {
      "cell_type": "code",
      "metadata": {
        "id": "Wvjv8ogr8pjR"
      },
      "source": [
        "test['distance'] = 903*(test['duration']/60)\n",
        "# test['distance'] = (test['distance']/8)*5"
      ],
      "execution_count": null,
      "outputs": []
    },
    {
      "cell_type": "code",
      "metadata": {
        "id": "PYOA7DEgeRMt"
      },
      "source": [
        "test[\"duration\"]= (test[\"duration\"] - test[\"duration\"].mean())/test[\"duration\"].std()\n"
      ],
      "execution_count": null,
      "outputs": []
    },
    {
      "cell_type": "code",
      "metadata": {
        "id": "maqYvWSktOLt"
      },
      "source": [
        "mm = MinMaxScaler()\n",
        "test['distance'] = mm.fit_transform(test[['distance']])\n",
        "test['duration'] = \n"
      ],
      "execution_count": null,
      "outputs": []
    },
    {
      "cell_type": "code",
      "metadata": {
        "id": "zQdoBrwqtg_m"
      },
      "source": [
        "colsname = list(test.select_dtypes(exclude='number'))\n",
        "for i in range(len(list(colsname))):\n",
        "  le=LabelEncoder()\n",
        "  test[colsname[i]] = le.fit_transform(test[colsname[i]])\n"
      ],
      "execution_count": null,
      "outputs": []
    },
    {
      "cell_type": "code",
      "metadata": {
        "id": "VeIuEfXrv9HV",
        "colab": {
          "base_uri": "https://localhost:8080/",
          "height": 226
        },
        "outputId": "ffed485a-bef8-48a9-a059-447b2ebc8b95"
      },
      "source": [
        "X.head()"
      ],
      "execution_count": null,
      "outputs": [
        {
          "output_type": "execute_result",
          "data": {
            "text/html": [
              "<div>\n",
              "<style scoped>\n",
              "    .dataframe tbody tr th:only-of-type {\n",
              "        vertical-align: middle;\n",
              "    }\n",
              "\n",
              "    .dataframe tbody tr th {\n",
              "        vertical-align: top;\n",
              "    }\n",
              "\n",
              "    .dataframe thead th {\n",
              "        text-align: right;\n",
              "    }\n",
              "</style>\n",
              "<table border=\"1\" class=\"dataframe\">\n",
              "  <thead>\n",
              "    <tr style=\"text-align: right;\">\n",
              "      <th></th>\n",
              "      <th>Airline</th>\n",
              "      <th>Source</th>\n",
              "      <th>Destination</th>\n",
              "      <th>day</th>\n",
              "      <th>month</th>\n",
              "      <th>weekday</th>\n",
              "      <th>duration</th>\n",
              "      <th>dep_time</th>\n",
              "      <th>arrival_time</th>\n",
              "      <th>total_stops</th>\n",
              "      <th>additional_info</th>\n",
              "      <th>distance</th>\n",
              "    </tr>\n",
              "  </thead>\n",
              "  <tbody>\n",
              "    <tr>\n",
              "      <th>0</th>\n",
              "      <td>2</td>\n",
              "      <td>2</td>\n",
              "      <td>1</td>\n",
              "      <td>12</td>\n",
              "      <td>6</td>\n",
              "      <td>2</td>\n",
              "      <td>0.267587</td>\n",
              "      <td>1</td>\n",
              "      <td>2</td>\n",
              "      <td>1</td>\n",
              "      <td>1</td>\n",
              "      <td>0.247756</td>\n",
              "    </tr>\n",
              "    <tr>\n",
              "      <th>1</th>\n",
              "      <td>0</td>\n",
              "      <td>0</td>\n",
              "      <td>2</td>\n",
              "      <td>18</td>\n",
              "      <td>6</td>\n",
              "      <td>1</td>\n",
              "      <td>-0.886874</td>\n",
              "      <td>1</td>\n",
              "      <td>3</td>\n",
              "      <td>0</td>\n",
              "      <td>1</td>\n",
              "      <td>0.039497</td>\n",
              "    </tr>\n",
              "    <tr>\n",
              "      <th>2</th>\n",
              "      <td>2</td>\n",
              "      <td>2</td>\n",
              "      <td>1</td>\n",
              "      <td>18</td>\n",
              "      <td>5</td>\n",
              "      <td>5</td>\n",
              "      <td>0.586059</td>\n",
              "      <td>3</td>\n",
              "      <td>1</td>\n",
              "      <td>1</td>\n",
              "      <td>1</td>\n",
              "      <td>0.305206</td>\n",
              "    </tr>\n",
              "    <tr>\n",
              "      <th>3</th>\n",
              "      <td>0</td>\n",
              "      <td>3</td>\n",
              "      <td>0</td>\n",
              "      <td>6</td>\n",
              "      <td>5</td>\n",
              "      <td>0</td>\n",
              "      <td>0.207874</td>\n",
              "      <td>1</td>\n",
              "      <td>2</td>\n",
              "      <td>1</td>\n",
              "      <td>0</td>\n",
              "      <td>0.236984</td>\n",
              "    </tr>\n",
              "    <tr>\n",
              "      <th>4</th>\n",
              "      <td>0</td>\n",
              "      <td>3</td>\n",
              "      <td>0</td>\n",
              "      <td>9</td>\n",
              "      <td>5</td>\n",
              "      <td>3</td>\n",
              "      <td>-0.598259</td>\n",
              "      <td>2</td>\n",
              "      <td>0</td>\n",
              "      <td>1</td>\n",
              "      <td>0</td>\n",
              "      <td>0.091562</td>\n",
              "    </tr>\n",
              "  </tbody>\n",
              "</table>\n",
              "</div>"
            ],
            "text/plain": [
              "   Airline  Source  Destination  ...  total_stops  additional_info  distance\n",
              "0        2       2            1  ...            1                1  0.247756\n",
              "1        0       0            2  ...            0                1  0.039497\n",
              "2        2       2            1  ...            1                1  0.305206\n",
              "3        0       3            0  ...            1                0  0.236984\n",
              "4        0       3            0  ...            1                0  0.091562\n",
              "\n",
              "[5 rows x 12 columns]"
            ]
          },
          "metadata": {
            "tags": []
          },
          "execution_count": 153
        }
      ]
    },
    {
      "cell_type": "code",
      "metadata": {
        "id": "QBfrJf3z-Hlr",
        "colab": {
          "base_uri": "https://localhost:8080/",
          "height": 226
        },
        "outputId": "0ccb5a93-d802-4e20-a79f-e19ae05b970b"
      },
      "source": [
        "test.head()"
      ],
      "execution_count": null,
      "outputs": [
        {
          "output_type": "execute_result",
          "data": {
            "text/html": [
              "<div>\n",
              "<style scoped>\n",
              "    .dataframe tbody tr th:only-of-type {\n",
              "        vertical-align: middle;\n",
              "    }\n",
              "\n",
              "    .dataframe tbody tr th {\n",
              "        vertical-align: top;\n",
              "    }\n",
              "\n",
              "    .dataframe thead th {\n",
              "        text-align: right;\n",
              "    }\n",
              "</style>\n",
              "<table border=\"1\" class=\"dataframe\">\n",
              "  <thead>\n",
              "    <tr style=\"text-align: right;\">\n",
              "      <th></th>\n",
              "      <th>Airline</th>\n",
              "      <th>Source</th>\n",
              "      <th>Destination</th>\n",
              "      <th>day</th>\n",
              "      <th>month</th>\n",
              "      <th>weekday</th>\n",
              "      <th>duration</th>\n",
              "      <th>dep_time</th>\n",
              "      <th>arrival_time</th>\n",
              "      <th>total_stops</th>\n",
              "      <th>additional_info</th>\n",
              "      <th>distance</th>\n",
              "    </tr>\n",
              "  </thead>\n",
              "  <tbody>\n",
              "    <tr>\n",
              "      <th>0</th>\n",
              "      <td>1</td>\n",
              "      <td>2</td>\n",
              "      <td>1</td>\n",
              "      <td>27</td>\n",
              "      <td>3</td>\n",
              "      <td>2</td>\n",
              "      <td>0.048142</td>\n",
              "      <td>3</td>\n",
              "      <td>1</td>\n",
              "      <td>1</td>\n",
              "      <td>2</td>\n",
              "      <td>0.218579</td>\n",
              "    </tr>\n",
              "    <tr>\n",
              "      <th>1</th>\n",
              "      <td>4</td>\n",
              "      <td>3</td>\n",
              "      <td>0</td>\n",
              "      <td>27</td>\n",
              "      <td>5</td>\n",
              "      <td>0</td>\n",
              "      <td>-0.996485</td>\n",
              "      <td>3</td>\n",
              "      <td>3</td>\n",
              "      <td>0</td>\n",
              "      <td>2</td>\n",
              "      <td>0.023679</td>\n",
              "    </tr>\n",
              "    <tr>\n",
              "      <th>2</th>\n",
              "      <td>2</td>\n",
              "      <td>3</td>\n",
              "      <td>0</td>\n",
              "      <td>6</td>\n",
              "      <td>6</td>\n",
              "      <td>3</td>\n",
              "      <td>0.438656</td>\n",
              "      <td>2</td>\n",
              "      <td>1</td>\n",
              "      <td>2</td>\n",
              "      <td>2</td>\n",
              "      <td>0.291439</td>\n",
              "    </tr>\n",
              "    <tr>\n",
              "      <th>3</th>\n",
              "      <td>0</td>\n",
              "      <td>0</td>\n",
              "      <td>2</td>\n",
              "      <td>6</td>\n",
              "      <td>3</td>\n",
              "      <td>2</td>\n",
              "      <td>-0.723125</td>\n",
              "      <td>2</td>\n",
              "      <td>0</td>\n",
              "      <td>1</td>\n",
              "      <td>2</td>\n",
              "      <td>0.074681</td>\n",
              "    </tr>\n",
              "    <tr>\n",
              "      <th>4</th>\n",
              "      <td>1</td>\n",
              "      <td>2</td>\n",
              "      <td>1</td>\n",
              "      <td>15</td>\n",
              "      <td>6</td>\n",
              "      <td>5</td>\n",
              "      <td>-0.156878</td>\n",
              "      <td>1</td>\n",
              "      <td>3</td>\n",
              "      <td>1</td>\n",
              "      <td>2</td>\n",
              "      <td>0.180328</td>\n",
              "    </tr>\n",
              "  </tbody>\n",
              "</table>\n",
              "</div>"
            ],
            "text/plain": [
              "   Airline  Source  Destination  ...  total_stops  additional_info  distance\n",
              "0        1       2            1  ...            1                2  0.218579\n",
              "1        4       3            0  ...            0                2  0.023679\n",
              "2        2       3            0  ...            2                2  0.291439\n",
              "3        0       0            2  ...            1                2  0.074681\n",
              "4        1       2            1  ...            1                2  0.180328\n",
              "\n",
              "[5 rows x 12 columns]"
            ]
          },
          "metadata": {
            "tags": []
          },
          "execution_count": 152
        }
      ]
    },
    {
      "cell_type": "code",
      "metadata": {
        "id": "qzqFCi9VsL0q"
      },
      "source": [
        "real_test_cat = test.select_dtypes(exclude='number')\n",
        "real_test_num = test.select_dtypes(include='number')"
      ],
      "execution_count": null,
      "outputs": []
    },
    {
      "cell_type": "code",
      "metadata": {
        "id": "FAGHaeDC0Qu0"
      },
      "source": [
        "full_test_data = pd.concat([real_test_cat,real_test_num],1)"
      ],
      "execution_count": null,
      "outputs": []
    },
    {
      "cell_type": "code",
      "metadata": {
        "id": "BnnWMwEp6c7O",
        "colab": {
          "base_uri": "https://localhost:8080/",
          "height": 119
        },
        "outputId": "54490e02-8708-4389-ab48-aeb25e200112"
      },
      "source": [
        "print(full_test_data.shape)\n",
        "full_test_data.head(1)"
      ],
      "execution_count": null,
      "outputs": [
        {
          "output_type": "stream",
          "text": [
            "(2671, 12)\n"
          ],
          "name": "stdout"
        },
        {
          "output_type": "execute_result",
          "data": {
            "text/html": [
              "<div>\n",
              "<style scoped>\n",
              "    .dataframe tbody tr th:only-of-type {\n",
              "        vertical-align: middle;\n",
              "    }\n",
              "\n",
              "    .dataframe tbody tr th {\n",
              "        vertical-align: top;\n",
              "    }\n",
              "\n",
              "    .dataframe thead th {\n",
              "        text-align: right;\n",
              "    }\n",
              "</style>\n",
              "<table border=\"1\" class=\"dataframe\">\n",
              "  <thead>\n",
              "    <tr style=\"text-align: right;\">\n",
              "      <th></th>\n",
              "      <th>Airline</th>\n",
              "      <th>Source</th>\n",
              "      <th>Destination</th>\n",
              "      <th>additional_info</th>\n",
              "      <th>arrival_time</th>\n",
              "      <th>dep_time</th>\n",
              "      <th>day</th>\n",
              "      <th>month</th>\n",
              "      <th>weekday</th>\n",
              "      <th>duration</th>\n",
              "      <th>total_stops</th>\n",
              "      <th>distance</th>\n",
              "    </tr>\n",
              "  </thead>\n",
              "  <tbody>\n",
              "    <tr>\n",
              "      <th>0</th>\n",
              "      <td>1</td>\n",
              "      <td>2</td>\n",
              "      <td>1</td>\n",
              "      <td>7</td>\n",
              "      <td>1</td>\n",
              "      <td>3</td>\n",
              "      <td>27</td>\n",
              "      <td>3</td>\n",
              "      <td>2</td>\n",
              "      <td>675</td>\n",
              "      <td>1</td>\n",
              "      <td>0.146016</td>\n",
              "    </tr>\n",
              "  </tbody>\n",
              "</table>\n",
              "</div>"
            ],
            "text/plain": [
              "   Airline  Source  Destination  ...  duration  total_stops  distance\n",
              "0        1       2            1  ...       675            1  0.146016\n",
              "\n",
              "[1 rows x 12 columns]"
            ]
          },
          "metadata": {
            "tags": []
          },
          "execution_count": 311
        }
      ]
    },
    {
      "cell_type": "code",
      "metadata": {
        "id": "aJPgw5GnkHXy",
        "colab": {
          "base_uri": "https://localhost:8080/"
        },
        "outputId": "88c5e19c-f16d-4148-af2b-1fedbcb17430"
      },
      "source": [
        "final_model = RandomForestRegressor(max_depth = 50, min_samples_split=5, min_samples_leaf=1, n_estimators=1000)\n",
        "final_model.fit(X,y)\n",
        "# {'max_depth': 50,\n",
        "#  'min_samples_leaf': 1,\n",
        "#  'min_samples_split': 5,\n",
        "#  'n_estimators': 1000}"
      ],
      "execution_count": null,
      "outputs": [
        {
          "output_type": "execute_result",
          "data": {
            "text/plain": [
              "RandomForestRegressor(bootstrap=True, ccp_alpha=0.0, criterion='mse',\n",
              "                      max_depth=50, max_features='auto', max_leaf_nodes=None,\n",
              "                      max_samples=None, min_impurity_decrease=0.0,\n",
              "                      min_impurity_split=None, min_samples_leaf=1,\n",
              "                      min_samples_split=5, min_weight_fraction_leaf=0.0,\n",
              "                      n_estimators=1000, n_jobs=None, oob_score=False,\n",
              "                      random_state=None, verbose=0, warm_start=False)"
            ]
          },
          "metadata": {
            "tags": []
          },
          "execution_count": 145
        }
      ]
    },
    {
      "cell_type": "code",
      "metadata": {
        "id": "6R5YqlsvoZAV",
        "colab": {
          "base_uri": "https://localhost:8080/"
        },
        "outputId": "044caf3a-b219-4fa8-a559-8faeb3af4d55"
      },
      "source": [
        "final_model = XGBRegressor(max_depth=10, n_estimators=1100, learning_rate=0.01)\n",
        "final_model.fit(X,y)\n",
        "# {'learning_rate': 0.01, 'max_depth': 10, 'n_estimators': 1100}"
      ],
      "execution_count": null,
      "outputs": [
        {
          "output_type": "stream",
          "text": [
            "[13:22:49] WARNING: /workspace/src/objective/regression_obj.cu:152: reg:linear is now deprecated in favor of reg:squarederror.\n"
          ],
          "name": "stdout"
        },
        {
          "output_type": "execute_result",
          "data": {
            "text/plain": [
              "XGBRegressor(base_score=0.5, booster='gbtree', colsample_bylevel=1,\n",
              "             colsample_bynode=1, colsample_bytree=1, gamma=0,\n",
              "             importance_type='gain', learning_rate=0.01, max_delta_step=0,\n",
              "             max_depth=10, min_child_weight=1, missing=None, n_estimators=1100,\n",
              "             n_jobs=1, nthread=None, objective='reg:linear', random_state=0,\n",
              "             reg_alpha=0, reg_lambda=1, scale_pos_weight=1, seed=None,\n",
              "             silent=None, subsample=1, verbosity=1)"
            ]
          },
          "metadata": {
            "tags": []
          },
          "execution_count": 148
        }
      ]
    },
    {
      "cell_type": "code",
      "metadata": {
        "id": "p1d35fhm6snD"
      },
      "source": [
        "price = final_model.predict(test)\n",
        "price=price.astype(np.int64)\n",
        "sub = pd.DataFrame({'Price':price})\n"
      ],
      "execution_count": null,
      "outputs": []
    },
    {
      "cell_type": "code",
      "metadata": {
        "id": "IAduIyjK66d3"
      },
      "source": [
        "sub.to_csv('upload12.csv',index=False)"
      ],
      "execution_count": null,
      "outputs": []
    },
    {
      "cell_type": "code",
      "metadata": {
        "id": "VaN-CoJX9PQf"
      },
      "source": [
        ""
      ],
      "execution_count": null,
      "outputs": []
    }
  ]
}